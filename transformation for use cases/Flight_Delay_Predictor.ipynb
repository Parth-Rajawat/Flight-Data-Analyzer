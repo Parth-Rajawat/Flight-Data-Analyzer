{
 "cells": [
  {
   "cell_type": "code",
   "execution_count": 1,
   "id": "ea89b933",
   "metadata": {
    "execution": {
     "iopub.execute_input": "2025-09-03T09:52:32.631784Z",
     "iopub.status.busy": "2025-09-03T09:52:32.631414Z",
     "iopub.status.idle": "2025-09-03T09:52:36.975019Z",
     "shell.execute_reply": "2025-09-03T09:52:36.974748Z"
    },
    "jupyter": {
     "source_hidden": true
    },
    "papermill": {
     "duration": 4.351888,
     "end_time": "2025-09-03T09:52:36.975762",
     "exception": false,
     "start_time": "2025-09-03T09:52:32.623874",
     "status": "completed"
    },
    "tags": []
   },
   "outputs": [
    {
     "name": "stderr",
     "output_type": "stream",
     "text": [
      "WARNING: Using incubator modules: jdk.incubator.vector\n"
     ]
    },
    {
     "name": "stderr",
     "output_type": "stream",
     "text": [
      "Using Spark's default log4j profile: org/apache/spark/log4j2-defaults.properties\n",
      "25/09/03 15:22:34 WARN Utils: Your hostname, Parths-MacBook-Air.local, resolves to a loopback address: 127.0.0.1; using 192.168.0.249 instead (on interface en0)\n",
      "25/09/03 15:22:34 WARN Utils: Set SPARK_LOCAL_IP if you need to bind to another address\n",
      "Using Spark's default log4j profile: org/apache/spark/log4j2-defaults.properties\n",
      "Setting default log level to \"WARN\".\n",
      "To adjust logging level use sc.setLogLevel(newLevel). For SparkR, use setLogLevel(newLevel).\n"
     ]
    },
    {
     "name": "stderr",
     "output_type": "stream",
     "text": [
      "25/09/03 15:22:34 WARN NativeCodeLoader: Unable to load native-hadoop library for your platform... using builtin-java classes where applicable\n"
     ]
    },
    {
     "name": "stdout",
     "output_type": "stream",
     "text": [
      "Number of rows: 100000\n",
      "Number of columns: 46\n",
      "root\n",
      " |-- aircraft_iata: string (nullable = true)\n",
      " |-- aircraft_icao: string (nullable = true)\n",
      " |-- aircraft_icao24: string (nullable = true)\n",
      " |-- aircraft_manufacturer: string (nullable = true)\n",
      " |-- aircraft_model: string (nullable = true)\n",
      " |-- aircraft_registration: string (nullable = true)\n",
      " |-- airline_iata: string (nullable = true)\n",
      " |-- airline_icao: string (nullable = true)\n",
      " |-- airline_name: string (nullable = true)\n",
      " |-- arrival_actual: string (nullable = true)\n",
      " |-- arrival_actual_runway: string (nullable = true)\n",
      " |-- arrival_airport: string (nullable = true)\n",
      " |-- arrival_baggage: string (nullable = true)\n",
      " |-- arrival_delay: long (nullable = true)\n",
      " |-- arrival_estimated: string (nullable = true)\n",
      " |-- arrival_estimated_runway: string (nullable = true)\n",
      " |-- arrival_gate: string (nullable = true)\n",
      " |-- arrival_iata: string (nullable = true)\n",
      " |-- arrival_icao: string (nullable = true)\n",
      " |-- arrival_scheduled: string (nullable = true)\n",
      " |-- arrival_terminal: string (nullable = true)\n",
      " |-- arrival_timezone: string (nullable = true)\n",
      " |-- departure_actual: string (nullable = true)\n",
      " |-- departure_actual_runway: string (nullable = true)\n",
      " |-- departure_airport: string (nullable = true)\n",
      " |-- departure_delay: long (nullable = true)\n",
      " |-- departure_estimated: string (nullable = true)\n",
      " |-- departure_estimated_runway: string (nullable = true)\n",
      " |-- departure_gate: string (nullable = true)\n",
      " |-- departure_iata: string (nullable = true)\n",
      " |-- departure_icao: string (nullable = true)\n",
      " |-- departure_scheduled: string (nullable = true)\n",
      " |-- departure_terminal: string (nullable = true)\n",
      " |-- departure_timezone: string (nullable = true)\n",
      " |-- flight_codeshared_airline_iata: string (nullable = true)\n",
      " |-- flight_codeshared_airline_icao: string (nullable = true)\n",
      " |-- flight_codeshared_airline_name: string (nullable = true)\n",
      " |-- flight_codeshared_flight_iata: string (nullable = true)\n",
      " |-- flight_codeshared_flight_icao: string (nullable = true)\n",
      " |-- flight_codeshared_flight_number: string (nullable = true)\n",
      " |-- flight_iata: string (nullable = true)\n",
      " |-- flight_icao: string (nullable = true)\n",
      " |-- flight_number: string (nullable = true)\n",
      " |-- flight_date: string (nullable = true)\n",
      " |-- flight_status: string (nullable = true)\n",
      " |-- live: string (nullable = true)\n",
      "\n"
     ]
    },
    {
     "name": "stderr",
     "output_type": "stream",
     "text": [
      "25/09/03 15:22:36 WARN SparkStringUtils: Truncated the string representation of a plan since it was too large. This behavior can be adjusted by setting 'spark.sql.debug.maxToStringFields'.\n"
     ]
    },
    {
     "data": {
      "text/html": [
       "<div>\n",
       "<style scoped>\n",
       "    .dataframe tbody tr th:only-of-type {\n",
       "        vertical-align: middle;\n",
       "    }\n",
       "\n",
       "    .dataframe tbody tr th {\n",
       "        vertical-align: top;\n",
       "    }\n",
       "\n",
       "    .dataframe thead th {\n",
       "        text-align: right;\n",
       "    }\n",
       "</style>\n",
       "<table border=\"1\" class=\"dataframe\">\n",
       "  <thead>\n",
       "    <tr style=\"text-align: right;\">\n",
       "      <th></th>\n",
       "      <th>aircraft_iata</th>\n",
       "      <th>aircraft_icao</th>\n",
       "      <th>aircraft_icao24</th>\n",
       "      <th>aircraft_manufacturer</th>\n",
       "      <th>aircraft_model</th>\n",
       "      <th>aircraft_registration</th>\n",
       "      <th>airline_iata</th>\n",
       "      <th>airline_icao</th>\n",
       "      <th>airline_name</th>\n",
       "      <th>arrival_actual</th>\n",
       "      <th>...</th>\n",
       "      <th>flight_codeshared_airline_name</th>\n",
       "      <th>flight_codeshared_flight_iata</th>\n",
       "      <th>flight_codeshared_flight_icao</th>\n",
       "      <th>flight_codeshared_flight_number</th>\n",
       "      <th>flight_iata</th>\n",
       "      <th>flight_icao</th>\n",
       "      <th>flight_number</th>\n",
       "      <th>flight_date</th>\n",
       "      <th>flight_status</th>\n",
       "      <th>live</th>\n",
       "    </tr>\n",
       "  </thead>\n",
       "  <tbody>\n",
       "    <tr>\n",
       "      <th>0</th>\n",
       "      <td>AT7</td>\n",
       "      <td>AT76</td>\n",
       "      <td>d236e3</td>\n",
       "      <td>ATR</td>\n",
       "      <td>72-600</td>\n",
       "      <td>PK-VV4</td>\n",
       "      <td>ET</td>\n",
       "      <td>ETH</td>\n",
       "      <td>Ethiopian Airlines</td>\n",
       "      <td>2025-09-02T05:02:00+00:00</td>\n",
       "      <td>...</td>\n",
       "      <td>None</td>\n",
       "      <td>None</td>\n",
       "      <td>None</td>\n",
       "      <td>None</td>\n",
       "      <td>ET1383</td>\n",
       "      <td>ETH1383</td>\n",
       "      <td>1383</td>\n",
       "      <td>2025-09-01</td>\n",
       "      <td>landed</td>\n",
       "      <td>None</td>\n",
       "    </tr>\n",
       "    <tr>\n",
       "      <th>1</th>\n",
       "      <td>77W</td>\n",
       "      <td>B77W</td>\n",
       "      <td>ee6ec0</td>\n",
       "      <td>Boeing</td>\n",
       "      <td>777-300ER</td>\n",
       "      <td>VT-VIG</td>\n",
       "      <td>6E</td>\n",
       "      <td>IGO</td>\n",
       "      <td>IndiGo</td>\n",
       "      <td>2025-09-01T12:09:00+00:00</td>\n",
       "      <td>...</td>\n",
       "      <td>singapore airlines</td>\n",
       "      <td>sq4497</td>\n",
       "      <td>sia4497</td>\n",
       "      <td>4497</td>\n",
       "      <td>6E3121</td>\n",
       "      <td>IGO3121</td>\n",
       "      <td>3121</td>\n",
       "      <td>2025-09-01</td>\n",
       "      <td>landed</td>\n",
       "      <td>None</td>\n",
       "    </tr>\n",
       "    <tr>\n",
       "      <th>2</th>\n",
       "      <td>77W</td>\n",
       "      <td>B77W</td>\n",
       "      <td>831b31</td>\n",
       "      <td>Boeing</td>\n",
       "      <td>777-300ER</td>\n",
       "      <td>VT-IKI</td>\n",
       "      <td>QR</td>\n",
       "      <td>QTR</td>\n",
       "      <td>Qatar Airways</td>\n",
       "      <td>2025-09-01T17:47:00+00:00</td>\n",
       "      <td>...</td>\n",
       "      <td>scoot</td>\n",
       "      <td>tr4055</td>\n",
       "      <td>tgw4055</td>\n",
       "      <td>4055</td>\n",
       "      <td>QR5761</td>\n",
       "      <td>QTR5761</td>\n",
       "      <td>5761</td>\n",
       "      <td>2025-09-01</td>\n",
       "      <td>landed</td>\n",
       "      <td>None</td>\n",
       "    </tr>\n",
       "    <tr>\n",
       "      <th>3</th>\n",
       "      <td>A320</td>\n",
       "      <td>A320</td>\n",
       "      <td>a11cfd</td>\n",
       "      <td>Airbus</td>\n",
       "      <td>A320-200</td>\n",
       "      <td>N-LTV</td>\n",
       "      <td>WY</td>\n",
       "      <td>OMA</td>\n",
       "      <td>Oman Air</td>\n",
       "      <td>None</td>\n",
       "      <td>...</td>\n",
       "      <td>None</td>\n",
       "      <td>None</td>\n",
       "      <td>None</td>\n",
       "      <td>None</td>\n",
       "      <td>WY8186</td>\n",
       "      <td>OMA8186</td>\n",
       "      <td>8186</td>\n",
       "      <td>2025-09-01</td>\n",
       "      <td>delayed</td>\n",
       "      <td>None</td>\n",
       "    </tr>\n",
       "    <tr>\n",
       "      <th>4</th>\n",
       "      <td>E95</td>\n",
       "      <td>E295</td>\n",
       "      <td>eebbb3</td>\n",
       "      <td>Embraer</td>\n",
       "      <td>E195-E2</td>\n",
       "      <td>HL-XBM</td>\n",
       "      <td>G8</td>\n",
       "      <td>GOW</td>\n",
       "      <td>Go First</td>\n",
       "      <td>2025-09-01T19:14:00+00:00</td>\n",
       "      <td>...</td>\n",
       "      <td>None</td>\n",
       "      <td>None</td>\n",
       "      <td>None</td>\n",
       "      <td>None</td>\n",
       "      <td>G86472</td>\n",
       "      <td>GOW6472</td>\n",
       "      <td>6472</td>\n",
       "      <td>2025-09-01</td>\n",
       "      <td>landed</td>\n",
       "      <td>None</td>\n",
       "    </tr>\n",
       "  </tbody>\n",
       "</table>\n",
       "<p>5 rows × 46 columns</p>\n",
       "</div>"
      ],
      "text/plain": [
       "  aircraft_iata aircraft_icao aircraft_icao24 aircraft_manufacturer  \\\n",
       "0           AT7          AT76          d236e3                   ATR   \n",
       "1           77W          B77W          ee6ec0                Boeing   \n",
       "2           77W          B77W          831b31                Boeing   \n",
       "3          A320          A320          a11cfd                Airbus   \n",
       "4           E95          E295          eebbb3               Embraer   \n",
       "\n",
       "  aircraft_model aircraft_registration airline_iata airline_icao  \\\n",
       "0         72-600                PK-VV4           ET          ETH   \n",
       "1      777-300ER                VT-VIG           6E          IGO   \n",
       "2      777-300ER                VT-IKI           QR          QTR   \n",
       "3       A320-200                 N-LTV           WY          OMA   \n",
       "4        E195-E2                HL-XBM           G8          GOW   \n",
       "\n",
       "         airline_name             arrival_actual  ...  \\\n",
       "0  Ethiopian Airlines  2025-09-02T05:02:00+00:00  ...   \n",
       "1              IndiGo  2025-09-01T12:09:00+00:00  ...   \n",
       "2       Qatar Airways  2025-09-01T17:47:00+00:00  ...   \n",
       "3            Oman Air                       None  ...   \n",
       "4            Go First  2025-09-01T19:14:00+00:00  ...   \n",
       "\n",
       "  flight_codeshared_airline_name flight_codeshared_flight_iata  \\\n",
       "0                           None                          None   \n",
       "1             singapore airlines                        sq4497   \n",
       "2                          scoot                        tr4055   \n",
       "3                           None                          None   \n",
       "4                           None                          None   \n",
       "\n",
       "  flight_codeshared_flight_icao  flight_codeshared_flight_number flight_iata  \\\n",
       "0                          None                             None      ET1383   \n",
       "1                       sia4497                             4497      6E3121   \n",
       "2                       tgw4055                             4055      QR5761   \n",
       "3                          None                             None      WY8186   \n",
       "4                          None                             None      G86472   \n",
       "\n",
       "  flight_icao flight_number flight_date flight_status  live  \n",
       "0     ETH1383          1383  2025-09-01        landed  None  \n",
       "1     IGO3121          3121  2025-09-01        landed  None  \n",
       "2     QTR5761          5761  2025-09-01        landed  None  \n",
       "3     OMA8186          8186  2025-09-01       delayed  None  \n",
       "4     GOW6472          6472  2025-09-01        landed  None  \n",
       "\n",
       "[5 rows x 46 columns]"
      ]
     },
     "execution_count": 1,
     "metadata": {},
     "output_type": "execute_result"
    }
   ],
   "source": [
    "from pyspark.sql import SparkSession\n",
    "from pyspark.ml.feature import StringIndexer, OneHotEncoder, VectorAssembler\n",
    "from pyspark.ml import Pipeline\n",
    "from pyspark.ml.classification import RandomForestClassifier\n",
    "from pyspark.ml.evaluation import MulticlassClassificationEvaluator\n",
    "from pyspark.ml.evaluation import BinaryClassificationEvaluator\n",
    "from sklearn.metrics import roc_curve, auc\n",
    "import matplotlib.pyplot as plt\n",
    "import pyspark.sql.functions as F\n",
    "\n",
    "spark = SparkSession.builder \\\n",
    "    .appName(\"FlightDelayPrediction\") \\\n",
    "    .getOrCreate()\n",
    "\n",
    "DATA_PATH = \"/Users/parthmac/Desktop/Projects/Flight Data Engineering/data/wrangled data/flattened_flight_data_parquet\"  # change this path to where your data is stored\n",
    "\n",
    "try:\n",
    "    df = spark.read.parquet(DATA_PATH)\n",
    "except Exception:\n",
    "    df = spark.read.csv(DATA_PATH, header=True, inferSchema=True)\n",
    "\n",
    "print(\"Number of rows:\", df.count())\n",
    "print(\"Number of columns:\", len(df.columns))\n",
    "df.printSchema()\n",
    "\n",
    "# peek at sample\n",
    "df.limit(5).toPandas()"
   ]
  },
  {
   "cell_type": "code",
   "execution_count": 2,
   "id": "8b9bc298",
   "metadata": {
    "execution": {
     "iopub.execute_input": "2025-09-03T09:52:36.978472Z",
     "iopub.status.busy": "2025-09-03T09:52:36.978369Z",
     "iopub.status.idle": "2025-09-03T09:52:37.109719Z",
     "shell.execute_reply": "2025-09-03T09:52:37.109456Z"
    },
    "jupyter": {
     "source_hidden": true
    },
    "papermill": {
     "duration": 0.133454,
     "end_time": "2025-09-03T09:52:37.110609",
     "exception": false,
     "start_time": "2025-09-03T09:52:36.977155",
     "status": "completed"
    },
    "tags": []
   },
   "outputs": [
    {
     "data": {
      "text/html": [
       "<div>\n",
       "<style scoped>\n",
       "    .dataframe tbody tr th:only-of-type {\n",
       "        vertical-align: middle;\n",
       "    }\n",
       "\n",
       "    .dataframe tbody tr th {\n",
       "        vertical-align: top;\n",
       "    }\n",
       "\n",
       "    .dataframe thead th {\n",
       "        text-align: right;\n",
       "    }\n",
       "</style>\n",
       "<table border=\"1\" class=\"dataframe\">\n",
       "  <thead>\n",
       "    <tr style=\"text-align: right;\">\n",
       "      <th></th>\n",
       "      <th>arrival_scheduled</th>\n",
       "      <th>sched_hour</th>\n",
       "      <th>sched_dayofweek</th>\n",
       "      <th>sched_dayofmonth</th>\n",
       "      <th>sched_month</th>\n",
       "      <th>sched_weekofyear</th>\n",
       "    </tr>\n",
       "  </thead>\n",
       "  <tbody>\n",
       "    <tr>\n",
       "      <th>0</th>\n",
       "      <td>2025-09-02T05:02:00+00:00</td>\n",
       "      <td>10</td>\n",
       "      <td>3</td>\n",
       "      <td>2</td>\n",
       "      <td>9</td>\n",
       "      <td>36</td>\n",
       "    </tr>\n",
       "    <tr>\n",
       "      <th>1</th>\n",
       "      <td>2025-09-01T12:09:00+00:00</td>\n",
       "      <td>17</td>\n",
       "      <td>2</td>\n",
       "      <td>1</td>\n",
       "      <td>9</td>\n",
       "      <td>36</td>\n",
       "    </tr>\n",
       "    <tr>\n",
       "      <th>2</th>\n",
       "      <td>2025-09-01T17:47:00+00:00</td>\n",
       "      <td>23</td>\n",
       "      <td>2</td>\n",
       "      <td>1</td>\n",
       "      <td>9</td>\n",
       "      <td>36</td>\n",
       "    </tr>\n",
       "    <tr>\n",
       "      <th>3</th>\n",
       "      <td>2025-09-01T12:14:00+00:00</td>\n",
       "      <td>17</td>\n",
       "      <td>2</td>\n",
       "      <td>1</td>\n",
       "      <td>9</td>\n",
       "      <td>36</td>\n",
       "    </tr>\n",
       "    <tr>\n",
       "      <th>4</th>\n",
       "      <td>2025-09-01T19:14:00+00:00</td>\n",
       "      <td>0</td>\n",
       "      <td>3</td>\n",
       "      <td>2</td>\n",
       "      <td>9</td>\n",
       "      <td>36</td>\n",
       "    </tr>\n",
       "  </tbody>\n",
       "</table>\n",
       "</div>"
      ],
      "text/plain": [
       "           arrival_scheduled  sched_hour  sched_dayofweek  sched_dayofmonth  \\\n",
       "0  2025-09-02T05:02:00+00:00          10                3                 2   \n",
       "1  2025-09-01T12:09:00+00:00          17                2                 1   \n",
       "2  2025-09-01T17:47:00+00:00          23                2                 1   \n",
       "3  2025-09-01T12:14:00+00:00          17                2                 1   \n",
       "4  2025-09-01T19:14:00+00:00           0                3                 2   \n",
       "\n",
       "   sched_month  sched_weekofyear  \n",
       "0            9                36  \n",
       "1            9                36  \n",
       "2            9                36  \n",
       "3            9                36  \n",
       "4            9                36  "
      ]
     },
     "execution_count": 2,
     "metadata": {},
     "output_type": "execute_result"
    }
   ],
   "source": [
    "# pick arrival_scheduled if available, else departure_scheduled\n",
    "if \"arrival_scheduled\" in df.columns:\n",
    "    ts_col = \"arrival_scheduled\"\n",
    "elif \"departure_scheduled\" in df.columns:\n",
    "    ts_col = \"departure_scheduled\"\n",
    "else:\n",
    "    raise ValueError(\"No scheduled time column found in data!\")\n",
    "\n",
    "df = (\n",
    "    df.withColumn(\"_ts\", F.to_timestamp(F.col(ts_col)))\n",
    "      .withColumn(\"sched_hour\", F.hour(F.col(\"_ts\")))\n",
    "      .withColumn(\"sched_dayofweek\", F.dayofweek(F.col(\"_ts\")))\n",
    "      .withColumn(\"sched_dayofmonth\", F.dayofmonth(F.col(\"_ts\")))\n",
    "      .withColumn(\"sched_month\", F.month(F.col(\"_ts\")))\n",
    "      .withColumn(\"sched_weekofyear\", F.weekofyear(F.col(\"_ts\")))\n",
    "      .drop(\"_ts\")\n",
    ")\n",
    "\n",
    "df.select(\n",
    "    ts_col, \n",
    "    \"sched_hour\", \n",
    "    \"sched_dayofweek\", \n",
    "    \"sched_dayofmonth\", \n",
    "    \"sched_month\", \n",
    "    \"sched_weekofyear\"\n",
    ").limit(5).toPandas()"
   ]
  },
  {
   "cell_type": "code",
   "execution_count": 3,
   "id": "d72d3d77",
   "metadata": {
    "execution": {
     "iopub.execute_input": "2025-09-03T09:52:37.113515Z",
     "iopub.status.busy": "2025-09-03T09:52:37.113423Z",
     "iopub.status.idle": "2025-09-03T09:52:37.199013Z",
     "shell.execute_reply": "2025-09-03T09:52:37.198565Z"
    },
    "jupyter": {
     "source_hidden": true
    },
    "papermill": {
     "duration": 0.088365,
     "end_time": "2025-09-03T09:52:37.200383",
     "exception": false,
     "start_time": "2025-09-03T09:52:37.112018",
     "status": "completed"
    },
    "tags": []
   },
   "outputs": [
    {
     "data": {
      "text/html": [
       "<div>\n",
       "<style scoped>\n",
       "    .dataframe tbody tr th:only-of-type {\n",
       "        vertical-align: middle;\n",
       "    }\n",
       "\n",
       "    .dataframe tbody tr th {\n",
       "        vertical-align: top;\n",
       "    }\n",
       "\n",
       "    .dataframe thead th {\n",
       "        text-align: right;\n",
       "    }\n",
       "</style>\n",
       "<table border=\"1\" class=\"dataframe\">\n",
       "  <thead>\n",
       "    <tr style=\"text-align: right;\">\n",
       "      <th></th>\n",
       "      <th>arrival_delay</th>\n",
       "      <th>label_delay_binary</th>\n",
       "    </tr>\n",
       "  </thead>\n",
       "  <tbody>\n",
       "    <tr>\n",
       "      <th>0</th>\n",
       "      <td>NaN</td>\n",
       "      <td>0</td>\n",
       "    </tr>\n",
       "    <tr>\n",
       "      <th>1</th>\n",
       "      <td>13.0</td>\n",
       "      <td>0</td>\n",
       "    </tr>\n",
       "    <tr>\n",
       "      <th>2</th>\n",
       "      <td>NaN</td>\n",
       "      <td>0</td>\n",
       "    </tr>\n",
       "    <tr>\n",
       "      <th>3</th>\n",
       "      <td>NaN</td>\n",
       "      <td>0</td>\n",
       "    </tr>\n",
       "    <tr>\n",
       "      <th>4</th>\n",
       "      <td>NaN</td>\n",
       "      <td>0</td>\n",
       "    </tr>\n",
       "    <tr>\n",
       "      <th>5</th>\n",
       "      <td>NaN</td>\n",
       "      <td>0</td>\n",
       "    </tr>\n",
       "    <tr>\n",
       "      <th>6</th>\n",
       "      <td>NaN</td>\n",
       "      <td>0</td>\n",
       "    </tr>\n",
       "    <tr>\n",
       "      <th>7</th>\n",
       "      <td>44.0</td>\n",
       "      <td>1</td>\n",
       "    </tr>\n",
       "    <tr>\n",
       "      <th>8</th>\n",
       "      <td>54.0</td>\n",
       "      <td>1</td>\n",
       "    </tr>\n",
       "    <tr>\n",
       "      <th>9</th>\n",
       "      <td>13.0</td>\n",
       "      <td>0</td>\n",
       "    </tr>\n",
       "  </tbody>\n",
       "</table>\n",
       "</div>"
      ],
      "text/plain": [
       "   arrival_delay  label_delay_binary\n",
       "0            NaN                   0\n",
       "1           13.0                   0\n",
       "2            NaN                   0\n",
       "3            NaN                   0\n",
       "4            NaN                   0\n",
       "5            NaN                   0\n",
       "6            NaN                   0\n",
       "7           44.0                   1\n",
       "8           54.0                   1\n",
       "9           13.0                   0"
      ]
     },
     "execution_count": 3,
     "metadata": {},
     "output_type": "execute_result"
    }
   ],
   "source": [
    "# Step 4: Prepare labels\n",
    "DELAY_THRESHOLD = 15  # minutes\n",
    "\n",
    "# Regression label: keep arrival_delay as-is\n",
    "# Classification label: 1 if arrival_delay > threshold else 0\n",
    "df = df.withColumn(\n",
    "    \"label_delay_binary\",\n",
    "    F.when(F.col(\"arrival_delay\") > DELAY_THRESHOLD, 1).otherwise(0)\n",
    ")\n",
    "\n",
    "# Show some samples\n",
    "df.select(\"arrival_delay\", \"label_delay_binary\").limit(10).toPandas()\n"
   ]
  },
  {
   "cell_type": "code",
   "execution_count": 4,
   "id": "9eee4b43",
   "metadata": {
    "execution": {
     "iopub.execute_input": "2025-09-03T09:52:37.204112Z",
     "iopub.status.busy": "2025-09-03T09:52:37.204001Z",
     "iopub.status.idle": "2025-09-03T09:52:37.354308Z",
     "shell.execute_reply": "2025-09-03T09:52:37.354085Z"
    },
    "jupyter": {
     "source_hidden": true
    },
    "papermill": {
     "duration": 0.152657,
     "end_time": "2025-09-03T09:52:37.355146",
     "exception": false,
     "start_time": "2025-09-03T09:52:37.202489",
     "status": "completed"
    },
    "tags": []
   },
   "outputs": [
    {
     "name": "stdout",
     "output_type": "stream",
     "text": [
      "Total rows after dropping nulls: 44852\n",
      "+-------------+------------------+\n",
      "|arrival_delay|label_delay_binary|\n",
      "+-------------+------------------+\n",
      "|           13|                 0|\n",
      "|           44|                 1|\n",
      "|           54|                 1|\n",
      "|           13|                 0|\n",
      "|           29|                 1|\n",
      "|           48|                 1|\n",
      "|           43|                 1|\n",
      "|            8|                 0|\n",
      "|           39|                 1|\n",
      "|            5|                 0|\n",
      "+-------------+------------------+\n",
      "only showing top 10 rows\n"
     ]
    }
   ],
   "source": [
    "# Keep only rows with valid arrival_delay\n",
    "df_cls = df.na.drop(subset=[\"arrival_delay\"])\n",
    "\n",
    "print(\"Total rows after dropping nulls:\", df_cls.count())\n",
    "df_cls.select(\"arrival_delay\", \"label_delay_binary\").show(10)"
   ]
  },
  {
   "cell_type": "code",
   "execution_count": 5,
   "id": "21e77621",
   "metadata": {
    "execution": {
     "iopub.execute_input": "2025-09-03T09:52:37.358138Z",
     "iopub.status.busy": "2025-09-03T09:52:37.358040Z",
     "iopub.status.idle": "2025-09-03T09:52:38.479672Z",
     "shell.execute_reply": "2025-09-03T09:52:38.479433Z"
    },
    "jupyter": {
     "source_hidden": true
    },
    "papermill": {
     "duration": 1.123982,
     "end_time": "2025-09-03T09:52:38.480589",
     "exception": false,
     "start_time": "2025-09-03T09:52:37.356607",
     "status": "completed"
    },
    "tags": []
   },
   "outputs": [
    {
     "name": "stdout",
     "output_type": "stream",
     "text": [
      "+----------------------------------------------------------------------------------+------------------+\n",
      "|features                                                                          |label_delay_binary|\n",
      "+----------------------------------------------------------------------------------+------------------+\n",
      "|(255,[22,126,161,246,250,251,252,253,254],[1.0,1.0,1.0,1.0,17.0,2.0,1.0,9.0,36.0])|0                 |\n",
      "|(255,[32,128,188,246,250,251,252,253,254],[1.0,1.0,1.0,1.0,3.0,3.0,2.0,9.0,36.0]) |1                 |\n",
      "|(255,[32,50,177,248,250,251,252,253,254],[1.0,1.0,1.0,1.0,14.0,2.0,1.0,9.0,36.0]) |1                 |\n",
      "|(255,[45,74,191,248,250,251,252,253,254],[1.0,1.0,1.0,1.0,10.0,3.0,2.0,9.0,36.0]) |0                 |\n",
      "|(255,[44,68,164,249,250,251,252,253,254],[1.0,1.0,1.0,1.0,2.0,3.0,2.0,9.0,36.0])  |1                 |\n",
      "+----------------------------------------------------------------------------------+------------------+\n",
      "only showing top 5 rows\n"
     ]
    }
   ],
   "source": [
    "# Step 5.1: Define categorical and numeric features\n",
    "categorical_cols = [\"airline_iata\", \"departure_airport\", \"arrival_airport\", \"aircraft_model\"]\n",
    "numeric_cols = [\"sched_hour\", \"sched_dayofweek\", \"sched_dayofmonth\", \"sched_month\", \"sched_weekofyear\"]\n",
    "\n",
    "# Step 5.2: Index and OneHotEncode categoricals\n",
    "indexers = [StringIndexer(inputCol=col, outputCol=col+\"_idx\", handleInvalid=\"keep\") for col in categorical_cols]\n",
    "encoders = [OneHotEncoder(inputCol=col+\"_idx\", outputCol=col+\"_ohe\") for col in categorical_cols]\n",
    "\n",
    "# Step 5.3: Assemble all features\n",
    "assembler_inputs = [col+\"_ohe\" for col in categorical_cols] + numeric_cols\n",
    "assembler = VectorAssembler(inputCols=assembler_inputs, outputCol=\"features\")\n",
    "\n",
    "# Step 5.4: Build pipeline\n",
    "preprocess_pipeline = Pipeline(stages=indexers + encoders + [assembler])\n",
    "\n",
    "# Fit + transform\n",
    "df_prepared = preprocess_pipeline.fit(df_cls).transform(df_cls)\n",
    "\n",
    "# Show schema\n",
    "df_prepared.select(\"features\", \"label_delay_binary\").show(5, truncate=False)"
   ]
  },
  {
   "cell_type": "code",
   "execution_count": 6,
   "id": "69c4bc88",
   "metadata": {
    "execution": {
     "iopub.execute_input": "2025-09-03T09:52:38.483899Z",
     "iopub.status.busy": "2025-09-03T09:52:38.483792Z",
     "iopub.status.idle": "2025-09-03T09:52:43.738200Z",
     "shell.execute_reply": "2025-09-03T09:52:43.737950Z"
    },
    "jupyter": {
     "source_hidden": true
    },
    "papermill": {
     "duration": 5.257025,
     "end_time": "2025-09-03T09:52:43.739083",
     "exception": false,
     "start_time": "2025-09-03T09:52:38.482058",
     "status": "completed"
    },
    "tags": []
   },
   "outputs": [
    {
     "name": "stdout",
     "output_type": "stream",
     "text": [
      "Train rows: 36045\n"
     ]
    },
    {
     "name": "stdout",
     "output_type": "stream",
     "text": [
      "Test rows: 8807\n"
     ]
    },
    {
     "name": "stderr",
     "output_type": "stream",
     "text": [
      "25/09/03 15:22:42 WARN DAGScheduler: Broadcasting large task binary with size 1094.9 KiB\n"
     ]
    },
    {
     "name": "stderr",
     "output_type": "stream",
     "text": [
      "25/09/03 15:22:42 WARN DAGScheduler: Broadcasting large task binary with size 1352.7 KiB\n"
     ]
    },
    {
     "name": "stderr",
     "output_type": "stream",
     "text": [
      "25/09/03 15:22:42 WARN DAGScheduler: Broadcasting large task binary with size 1023.9 KiB\n",
      "25/09/03 15:22:43 WARN DAGScheduler: Broadcasting large task binary with size 1030.7 KiB\n"
     ]
    },
    {
     "name": "stdout",
     "output_type": "stream",
     "text": [
      "+---------------------------------------------------------------------------------+------------------+----------+----------------------------------------+\n",
      "|features                                                                         |label_delay_binary|prediction|probability                             |\n",
      "+---------------------------------------------------------------------------------+------------------+----------+----------------------------------------+\n",
      "|(255,[10,118,217,249,250,251,252,253,254],[1.0,1.0,1.0,1.0,3.0,3.0,2.0,9.0,36.0])|1                 |1.0       |[0.198526777066875,0.8014732229331251]  |\n",
      "|(255,[46,56,176,249,250,251,252,253,254],[1.0,1.0,1.0,1.0,16.0,2.0,1.0,9.0,36.0])|1                 |1.0       |[0.19292842787476902,0.807071572125231] |\n",
      "|(255,[2,70,226,249,250,251,252,253,254],[1.0,1.0,1.0,1.0,14.0,3.0,2.0,9.0,36.0]) |1                 |1.0       |[0.19110833201533892,0.8088916679846612]|\n",
      "|(255,[13,99,224,249,250,251,252,253,254],[1.0,1.0,1.0,1.0,5.0,4.0,3.0,9.0,36.0]) |1                 |1.0       |[0.19621072867233116,0.8037892713276688]|\n",
      "|(255,[25,70,170,249,250,251,252,253,254],[1.0,1.0,1.0,1.0,5.0,3.0,2.0,9.0,36.0]) |1                 |1.0       |[0.19617460752580465,0.8038253924741954]|\n",
      "+---------------------------------------------------------------------------------+------------------+----------+----------------------------------------+\n",
      "only showing top 5 rows\n"
     ]
    },
    {
     "name": "stdout",
     "output_type": "stream",
     "text": [
      "Accuracy: 0.8075394572499148\n"
     ]
    },
    {
     "name": "stderr",
     "output_type": "stream",
     "text": [
      "25/09/03 15:22:43 WARN DAGScheduler: Broadcasting large task binary with size 1030.7 KiB\n"
     ]
    },
    {
     "name": "stdout",
     "output_type": "stream",
     "text": [
      "F1 Score: 0.7215554519707763\n"
     ]
    }
   ],
   "source": [
    "# Step 6.1: Train/Test Split\n",
    "train_df, test_df = df_prepared.randomSplit([0.8, 0.2], seed=42)\n",
    "\n",
    "print(\"Train rows:\", train_df.count())\n",
    "print(\"Test rows:\", test_df.count())\n",
    "\n",
    "# Step 6.2: Define Random Forest model\n",
    "rf = RandomForestClassifier(\n",
    "    labelCol=\"label_delay_binary\",\n",
    "    featuresCol=\"features\",\n",
    "    numTrees=50,\n",
    "    maxDepth=10,\n",
    "    seed=42\n",
    ")\n",
    "\n",
    "# Step 6.3: Train model\n",
    "rf_model = rf.fit(train_df)\n",
    "\n",
    "# Step 6.4: Predictions\n",
    "predictions = rf_model.transform(test_df)\n",
    "predictions.select(\"features\", \"label_delay_binary\", \"prediction\", \"probability\").show(5, truncate=False)\n",
    "\n",
    "# Step 6.5: Evaluation\n",
    "evaluator_acc = MulticlassClassificationEvaluator(\n",
    "    labelCol=\"label_delay_binary\", predictionCol=\"prediction\", metricName=\"accuracy\"\n",
    ")\n",
    "evaluator_f1 = MulticlassClassificationEvaluator(\n",
    "    labelCol=\"label_delay_binary\", predictionCol=\"prediction\", metricName=\"f1\"\n",
    ")\n",
    "\n",
    "print(\"Accuracy:\", evaluator_acc.evaluate(predictions))\n",
    "print(\"F1 Score:\", evaluator_f1.evaluate(predictions))"
   ]
  },
  {
   "cell_type": "code",
   "execution_count": 7,
   "id": "e0e03c6d",
   "metadata": {
    "execution": {
     "iopub.execute_input": "2025-09-03T09:52:43.742537Z",
     "iopub.status.busy": "2025-09-03T09:52:43.742441Z",
     "iopub.status.idle": "2025-09-03T09:52:44.088526Z",
     "shell.execute_reply": "2025-09-03T09:52:44.088221Z"
    },
    "jupyter": {
     "source_hidden": true
    },
    "papermill": {
     "duration": 0.348721,
     "end_time": "2025-09-03T09:52:44.089460",
     "exception": false,
     "start_time": "2025-09-03T09:52:43.740739",
     "status": "completed"
    },
    "tags": []
   },
   "outputs": [
    {
     "name": "stderr",
     "output_type": "stream",
     "text": [
      "25/09/03 15:22:43 WARN DAGScheduler: Broadcasting large task binary with size 1028.0 KiB\n"
     ]
    },
    {
     "name": "stdout",
     "output_type": "stream",
     "text": [
      "+------------------+----------+-----+\n",
      "|label_delay_binary|prediction|count|\n",
      "+------------------+----------+-----+\n",
      "|                 0|       1.0| 1695|\n",
      "|                 1|       1.0| 7112|\n",
      "+------------------+----------+-----+\n",
      "\n"
     ]
    }
   ],
   "source": [
    "# Step 7.1: Confusion Matrix\n",
    "conf_matrix = (\n",
    "    predictions.groupBy(\"label_delay_binary\", \"prediction\")\n",
    "    .count()\n",
    "    .orderBy(\"label_delay_binary\", \"prediction\")\n",
    ")\n",
    "\n",
    "conf_matrix.show()\n",
    "# model never predicts \"0\" (on-time) — it always predicts delay.\n",
    "# That’s why accuracy looked decent (lots of delays in your dataset), but it’s actually biased."
   ]
  },
  {
   "cell_type": "code",
   "execution_count": 8,
   "id": "ccac1980",
   "metadata": {
    "execution": {
     "iopub.execute_input": "2025-09-03T09:52:44.093885Z",
     "iopub.status.busy": "2025-09-03T09:52:44.093774Z",
     "iopub.status.idle": "2025-09-03T09:52:44.193160Z",
     "shell.execute_reply": "2025-09-03T09:52:44.192790Z"
    },
    "jupyter": {
     "source_hidden": true
    },
    "papermill": {
     "duration": 0.10282,
     "end_time": "2025-09-03T09:52:44.194119",
     "exception": false,
     "start_time": "2025-09-03T09:52:44.091299",
     "status": "completed"
    },
    "tags": []
   },
   "outputs": [
    {
     "name": "stdout",
     "output_type": "stream",
     "text": [
      "+------------------+-----+\n",
      "|label_delay_binary|count|\n",
      "+------------------+-----+\n",
      "|                 1|36108|\n",
      "|                 0| 8744|\n",
      "+------------------+-----+\n",
      "\n"
     ]
    }
   ],
   "source": [
    "df_cls.groupBy(\"label_delay_binary\").count().show()\n"
   ]
  },
  {
   "cell_type": "code",
   "execution_count": 9,
   "id": "2815dc7f",
   "metadata": {
    "execution": {
     "iopub.execute_input": "2025-09-03T09:52:44.197855Z",
     "iopub.status.busy": "2025-09-03T09:52:44.197754Z",
     "iopub.status.idle": "2025-09-03T09:52:44.247462Z",
     "shell.execute_reply": "2025-09-03T09:52:44.247231Z"
    },
    "jupyter": {
     "source_hidden": true
    },
    "papermill": {
     "duration": 0.052424,
     "end_time": "2025-09-03T09:52:44.248322",
     "exception": false,
     "start_time": "2025-09-03T09:52:44.195898",
     "status": "completed"
    },
    "tags": []
   },
   "outputs": [
    {
     "data": {
      "image/png": "[encoded data removed]",
      "text/plain": [
       "<Figure size 600x400 with 1 Axes>"
      ]
     },
     "metadata": {},
     "output_type": "display_data"
    }
   ],
   "source": [
    "# Counts from dataset\n",
    "labels = [\"Delayed (1)\", \"On-time (0)\"]\n",
    "counts = [36250, 8901]\n",
    "\n",
    "# Plot\n",
    "plt.figure(figsize=(6,4))\n",
    "plt.bar(labels, counts, color=[\"red\", \"green\"])\n",
    "plt.title(\"Flight Delay Class Distribution\")\n",
    "plt.xlabel(\"Class\")\n",
    "plt.ylabel(\"Number of Flights\")\n",
    "plt.show()"
   ]
  },
  {
   "cell_type": "code",
   "execution_count": 10,
   "id": "4f17b882",
   "metadata": {
    "execution": {
     "iopub.execute_input": "2025-09-03T09:52:44.252187Z",
     "iopub.status.busy": "2025-09-03T09:52:44.252063Z",
     "iopub.status.idle": "2025-09-03T09:52:47.457958Z",
     "shell.execute_reply": "2025-09-03T09:52:47.457691Z"
    },
    "jupyter": {
     "source_hidden": true
    },
    "papermill": {
     "duration": 3.208546,
     "end_time": "2025-09-03T09:52:47.458739",
     "exception": false,
     "start_time": "2025-09-03T09:52:44.250193",
     "status": "completed"
    },
    "tags": []
   },
   "outputs": [
    {
     "name": "stderr",
     "output_type": "stream",
     "text": [
      "25/09/03 15:22:46 WARN DAGScheduler: Broadcasting large task binary with size 1104.6 KiB\n"
     ]
    },
    {
     "name": "stderr",
     "output_type": "stream",
     "text": [
      "25/09/03 15:22:46 WARN DAGScheduler: Broadcasting large task binary with size 1361.5 KiB\n"
     ]
    },
    {
     "name": "stderr",
     "output_type": "stream",
     "text": [
      "25/09/03 15:22:46 WARN DAGScheduler: Broadcasting large task binary with size 1050.5 KiB\n",
      "25/09/03 15:22:47 WARN DAGScheduler: Broadcasting large task binary with size 1060.6 KiB\n"
     ]
    },
    {
     "name": "stdout",
     "output_type": "stream",
     "text": [
      "+------------------+----------+----------------------------------------+\n",
      "|label_delay_binary|prediction|probability                             |\n",
      "+------------------+----------+----------------------------------------+\n",
      "|1                 |1.0       |[0.49693530975413025,0.5030646902458698]|\n",
      "|1                 |1.0       |[0.463862480694919,0.536137519305081]   |\n",
      "|1                 |1.0       |[0.48789490105557426,0.5121050989444257]|\n",
      "|1                 |1.0       |[0.4877866910602879,0.5122133089397122] |\n",
      "|1                 |1.0       |[0.4922923522838467,0.5077076477161533] |\n",
      "+------------------+----------+----------------------------------------+\n",
      "only showing top 5 rows\n",
      "Corrected Model (Weighted)\n"
     ]
    },
    {
     "name": "stdout",
     "output_type": "stream",
     "text": [
      "Accuracy: 0.7120472351538549\n"
     ]
    },
    {
     "name": "stdout",
     "output_type": "stream",
     "text": [
      "F1 Score: 0.701619222906604\n"
     ]
    },
    {
     "name": "stderr",
     "output_type": "stream",
     "text": [
      "25/09/03 15:22:47 WARN DAGScheduler: Broadcasting large task binary with size 1060.6 KiB\n"
     ]
    }
   ],
   "source": [
    "# Step 8: Training Corrected Model with Class Weights\n",
    "# After analyzing class imbalance (Step 7), we retrain the model with weights \n",
    "# to reduce bias toward the majority (delayed flights).\n",
    "\n",
    "# Step 8.1: Add class weights to training set\n",
    "# Assign higher weights to minority class (on-time flights, label=0)\n",
    "train_df_weighted = train_df.withColumn(\n",
    "    \"weight\",\n",
    "    F.when(F.col(\"label_delay_binary\") == 0, 4.0).otherwise(1.0)  # weight ratio ~ delayed:ontime\n",
    ")\n",
    "\n",
    "# Step 8.2: Define weighted Random Forest model\n",
    "rf_weighted = RandomForestClassifier(\n",
    "    labelCol=\"label_delay_binary\",\n",
    "    featuresCol=\"features\",\n",
    "    weightCol=\"weight\",    # ✅ NEW: weight column to handle imbalance\n",
    "    numTrees=50,\n",
    "    maxDepth=10,\n",
    "    seed=42\n",
    ")\n",
    "\n",
    "# Step 8.3: Train model\n",
    "rf_model_weighted = rf_weighted.fit(train_df_weighted)\n",
    "\n",
    "# Step 8.4: Predictions on test set\n",
    "predictions_weighted = rf_model_weighted.transform(test_df)\n",
    "predictions_weighted.select(\n",
    "    \"label_delay_binary\", \"prediction\", \"probability\"\n",
    ").show(5, truncate=False)\n",
    "\n",
    "# Step 8.5: Evaluation\n",
    "evaluator_acc = MulticlassClassificationEvaluator(\n",
    "    labelCol=\"label_delay_binary\", predictionCol=\"prediction\", metricName=\"accuracy\"\n",
    ")\n",
    "evaluator_f1 = MulticlassClassificationEvaluator(\n",
    "    labelCol=\"label_delay_binary\", predictionCol=\"prediction\", metricName=\"f1\"\n",
    ")\n",
    "\n",
    "print(\"Corrected Model (Weighted)\")\n",
    "print(\"Accuracy:\", evaluator_acc.evaluate(predictions_weighted))\n",
    "print(\"F1 Score:\", evaluator_f1.evaluate(predictions_weighted))\n"
   ]
  },
  {
   "cell_type": "code",
   "execution_count": 11,
   "id": "a256e18a",
   "metadata": {
    "execution": {
     "iopub.execute_input": "2025-09-03T09:52:47.463015Z",
     "iopub.status.busy": "2025-09-03T09:52:47.462896Z",
     "iopub.status.idle": "2025-09-03T09:52:47.763875Z",
     "shell.execute_reply": "2025-09-03T09:52:47.763525Z"
    },
    "jupyter": {
     "source_hidden": true
    },
    "papermill": {
     "duration": 0.30438,
     "end_time": "2025-09-03T09:52:47.765197",
     "exception": false,
     "start_time": "2025-09-03T09:52:47.460817",
     "status": "completed"
    },
    "tags": []
   },
   "outputs": [
    {
     "name": "stderr",
     "output_type": "stream",
     "text": [
      "25/09/03 15:22:47 WARN DAGScheduler: Broadcasting large task binary with size 1057.9 KiB\n"
     ]
    },
    {
     "name": "stdout",
     "output_type": "stream",
     "text": [
      "+------------------+----------+-----+\n",
      "|label_delay_binary|prediction|count|\n",
      "+------------------+----------+-----+\n",
      "|                 0|       0.0|  284|\n",
      "|                 0|       1.0| 1411|\n",
      "|                 1|       0.0| 1125|\n",
      "|                 1|       1.0| 5987|\n",
      "+------------------+----------+-----+\n",
      "\n"
     ]
    }
   ],
   "source": [
    "# Step 8.1: Confusion Matrix (Corrected Model)\n",
    "confusion_matrix_weighted = predictions_weighted.groupBy(\n",
    "    \"label_delay_binary\", \"prediction\"\n",
    ").count().orderBy(\"label_delay_binary\", \"prediction\")\n",
    "\n",
    "confusion_matrix_weighted.show()\n"
   ]
  },
  {
   "cell_type": "code",
   "execution_count": 12,
   "id": "a192fd8a",
   "metadata": {
    "execution": {
     "iopub.execute_input": "2025-09-03T09:52:47.770219Z",
     "iopub.status.busy": "2025-09-03T09:52:47.770106Z",
     "iopub.status.idle": "2025-09-03T09:52:48.067474Z",
     "shell.execute_reply": "2025-09-03T09:52:48.067036Z"
    },
    "jupyter": {
     "source_hidden": true
    },
    "papermill": {
     "duration": 0.300689,
     "end_time": "2025-09-03T09:52:48.068511",
     "exception": false,
     "start_time": "2025-09-03T09:52:47.767822",
     "status": "completed"
    },
    "tags": []
   },
   "outputs": [
    {
     "name": "stderr",
     "output_type": "stream",
     "text": [
      "25/09/03 15:22:47 WARN DAGScheduler: Broadcasting large task binary with size 1057.9 KiB\n"
     ]
    },
    {
     "name": "stdout",
     "output_type": "stream",
     "text": [
      "+------------------+----------+-----+\n",
      "|label_delay_binary|prediction|count|\n",
      "+------------------+----------+-----+\n",
      "|                 1|       0.0| 1125|\n",
      "|                 0|       0.0|  284|\n",
      "|                 1|       1.0| 5987|\n",
      "|                 0|       1.0| 1411|\n",
      "+------------------+----------+-----+\n",
      "\n"
     ]
    }
   ],
   "source": [
    "# Compute TP, FP, TN, FN from predictions\n",
    "cm = predictions_weighted.groupBy(\"label_delay_binary\", \"prediction\").count()\n",
    "cm.show()"
   ]
  },
  {
   "cell_type": "code",
   "execution_count": 13,
   "id": "fad2db3b",
   "metadata": {
    "execution": {
     "iopub.execute_input": "2025-09-03T09:52:48.073203Z",
     "iopub.status.busy": "2025-09-03T09:52:48.073096Z",
     "iopub.status.idle": "2025-09-03T09:52:49.285844Z",
     "shell.execute_reply": "2025-09-03T09:52:49.285624Z"
    },
    "jupyter": {
     "source_hidden": true
    },
    "papermill": {
     "duration": 1.215893,
     "end_time": "2025-09-03T09:52:49.286679",
     "exception": false,
     "start_time": "2025-09-03T09:52:48.070786",
     "status": "completed"
    },
    "tags": []
   },
   "outputs": [
    {
     "name": "stderr",
     "output_type": "stream",
     "text": [
      "25/09/03 15:22:48 WARN DAGScheduler: Broadcasting large task binary with size 1065.1 KiB\n"
     ]
    },
    {
     "name": "stderr",
     "output_type": "stream",
     "text": [
      "25/09/03 15:22:48 WARN DAGScheduler: Broadcasting large task binary with size 1065.1 KiB\n"
     ]
    },
    {
     "name": "stderr",
     "output_type": "stream",
     "text": [
      "25/09/03 15:22:48 WARN DAGScheduler: Broadcasting large task binary with size 1065.1 KiB\n"
     ]
    },
    {
     "name": "stderr",
     "output_type": "stream",
     "text": [
      "25/09/03 15:22:49 WARN DAGScheduler: Broadcasting large task binary with size 1065.1 KiB\n"
     ]
    },
    {
     "name": "stdout",
     "output_type": "stream",
     "text": [
      "Precision: 0.8093\n",
      "Recall: 0.8418\n"
     ]
    }
   ],
   "source": [
    "# Extract values\n",
    "TP = cm.filter((F.col(\"label_delay_binary\") == 1) & (F.col(\"prediction\") == 1)).select(\"count\").collect()[0][0]\n",
    "FP = cm.filter((F.col(\"label_delay_binary\") == 0) & (F.col(\"prediction\") == 1)).select(\"count\").collect()[0][0]\n",
    "TN = cm.filter((F.col(\"label_delay_binary\") == 0) & (F.col(\"prediction\") == 0)).select(\"count\").collect()[0][0]\n",
    "FN = cm.filter((F.col(\"label_delay_binary\") == 1) & (F.col(\"prediction\") == 0)).select(\"count\").collect()[0][0]\n",
    "\n",
    "# Compute metrics\n",
    "precision = TP / (TP + FP) if (TP + FP) > 0 else 0\n",
    "recall = TP / (TP + FN) if (TP + FN) > 0 else 0\n",
    "\n",
    "print(f\"Precision: {precision:.4f}\")\n",
    "print(f\"Recall: {recall:.4f}\")"
   ]
  },
  {
   "cell_type": "code",
   "execution_count": 14,
   "id": "644faece",
   "metadata": {
    "execution": {
     "iopub.execute_input": "2025-09-03T09:52:49.291044Z",
     "iopub.status.busy": "2025-09-03T09:52:49.290953Z",
     "iopub.status.idle": "2025-09-03T09:52:49.896481Z",
     "shell.execute_reply": "2025-09-03T09:52:49.896231Z"
    },
    "jupyter": {
     "source_hidden": true
    },
    "papermill": {
     "duration": 0.608564,
     "end_time": "2025-09-03T09:52:49.897397",
     "exception": false,
     "start_time": "2025-09-03T09:52:49.288833",
     "status": "completed"
    },
    "tags": []
   },
   "outputs": [
    {
     "name": "stderr",
     "output_type": "stream",
     "text": [
      "25/09/03 15:22:49 WARN DAGScheduler: Broadcasting large task binary with size 1015.1 KiB\n"
     ]
    },
    {
     "name": "stderr",
     "output_type": "stream",
     "text": [
      "25/09/03 15:22:49 WARN DAGScheduler: Broadcasting large task binary with size 1044.9 KiB\n"
     ]
    },
    {
     "data": {
      "image/png": "[encoded data removed]",
      "text/plain": [
       "<Figure size 800x600 with 1 Axes>"
      ]
     },
     "metadata": {},
     "output_type": "display_data"
    }
   ],
   "source": [
    "# --- Naive Model ---\n",
    "preds_naive_pd = predictions.select(\"label_delay_binary\", \"probability\").toPandas()\n",
    "y_true_naive = preds_naive_pd[\"label_delay_binary\"]\n",
    "y_score_naive = preds_naive_pd[\"probability\"].apply(lambda x: float(x[1]))\n",
    "\n",
    "fpr_naive, tpr_naive, _ = roc_curve(y_true_naive, y_score_naive)\n",
    "roc_auc_naive = auc(fpr_naive, tpr_naive)\n",
    "\n",
    "# --- Weighted Model ---\n",
    "preds_weighted_pd = predictions_weighted.select(\"label_delay_binary\", \"probability\").toPandas()\n",
    "y_true_weighted = preds_weighted_pd[\"label_delay_binary\"]\n",
    "y_score_weighted = preds_weighted_pd[\"probability\"].apply(lambda x: float(x[1]))\n",
    "\n",
    "fpr_weighted, tpr_weighted, _ = roc_curve(y_true_weighted, y_score_weighted)\n",
    "roc_auc_weighted = auc(fpr_weighted, tpr_weighted)\n",
    "\n",
    "# --- Plot both ---\n",
    "plt.figure(figsize=(8,6))\n",
    "plt.plot(fpr_naive, tpr_naive, label=f\"Naive Model (AUC = {roc_auc_naive:.2f})\")\n",
    "plt.plot(fpr_weighted, tpr_weighted, label=f\"Weighted Model (AUC = {roc_auc_weighted:.2f})\")\n",
    "plt.plot([0,1],[0,1],'k--')\n",
    "\n",
    "plt.xlabel(\"False Positive Rate\")\n",
    "plt.ylabel(\"True Positive Rate\")\n",
    "plt.title(\"ROC Curve Comparison: Naive vs Weighted Model\")\n",
    "plt.legend(loc=\"lower right\")\n",
    "plt.show()\n"
   ]
  },
  {
   "cell_type": "code",
   "execution_count": 15,
   "id": "79b9a7d0",
   "metadata": {
    "execution": {
     "iopub.execute_input": "2025-09-03T09:52:49.902133Z",
     "iopub.status.busy": "2025-09-03T09:52:49.902055Z",
     "iopub.status.idle": "2025-09-03T09:52:51.655371Z",
     "shell.execute_reply": "2025-09-03T09:52:51.655067Z"
    },
    "jupyter": {
     "source_hidden": true
    },
    "papermill": {
     "duration": 1.756693,
     "end_time": "2025-09-03T09:52:51.656623",
     "exception": false,
     "start_time": "2025-09-03T09:52:49.899930",
     "status": "completed"
    },
    "tags": []
   },
   "outputs": [],
   "source": [
    "# pipeline = preprocessors + weighted RF model\n",
    "pipeline = Pipeline(stages=indexers + encoders + [assembler, rf_model_weighted])\n",
    "\n",
    "# Fit pipeline on full dataset\n",
    "pipeline_model = pipeline.fit(df_cls)\n",
    "\n",
    "# Save pipeline\n",
    "pipeline_model.write().overwrite().save(\"/Users/parthmac/Desktop/Projects/Flight Data Engineering/transformation for use cases/models/final_flight_delay_model\")"
   ]
  }
 ],
 "metadata": {
  "kernelspec": {
   "display_name": "flight-env",
   "language": "python",
   "name": "python3"
  },
  "language_info": {
   "codemirror_mode": {
    "name": "ipython",
    "version": 3
   },
   "file_extension": ".py",
   "mimetype": "text/x-python",
   "name": "python",
   "nbconvert_exporter": "python",
   "pygments_lexer": "ipython3",
   "version": "3.12.6"
  },
  "papermill": {
   "default_parameters": {},
   "duration": 20.335741,
   "end_time": "2025-09-03T09:52:52.380031",
   "environment_variables": {},
   "exception": null,
   "input_path": "/Users/parthmac/Desktop/Projects/Flight Data Engineering/transformation for use cases/Flight_Delay_Predictor.ipynb",
   "output_path": "/Users/parthmac/Desktop/Projects/Flight Data Engineering/transformation for use cases/Flight_Delay_Predictor.ipynb",
   "parameters": {},
   "start_time": "2025-09-03T09:52:32.044290",
   "version": "2.6.0"
  }
 },
 "nbformat": 4,
 "nbformat_minor": 5
}