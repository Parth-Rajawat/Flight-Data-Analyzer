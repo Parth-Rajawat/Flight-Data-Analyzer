{
 "cells": [
  {
   "cell_type": "code",
   "execution_count": 1,
   "id": "fc98094c",
   "metadata": {
    "execution": {
     "iopub.execute_input": "2025-09-03T09:52:54.651846Z",
     "iopub.status.busy": "2025-09-03T09:52:54.651612Z",
     "iopub.status.idle": "2025-09-03T09:52:58.185543Z",
     "shell.execute_reply": "2025-09-03T09:52:58.185280Z"
    },
    "jupyter": {
     "source_hidden": true
    },
    "papermill": {
     "duration": 3.540039,
     "end_time": "2025-09-03T09:52:58.186395",
     "exception": false,
     "start_time": "2025-09-03T09:52:54.646356",
     "status": "completed"
    },
    "tags": []
   },
   "outputs": [
    {
     "name": "stderr",
     "output_type": "stream",
     "text": [
      "WARNING: Using incubator modules: jdk.incubator.vector\n"
     ]
    },
    {
     "name": "stderr",
     "output_type": "stream",
     "text": [
      "Using Spark's default log4j profile: org/apache/spark/log4j2-defaults.properties\n",
      "25/09/03 15:22:55 WARN Utils: Your hostname, Parths-MacBook-Air.local, resolves to a loopback address: 127.0.0.1; using 192.168.0.249 instead (on interface en0)\n",
      "25/09/03 15:22:55 WARN Utils: Set SPARK_LOCAL_IP if you need to bind to another address\n",
      "Using Spark's default log4j profile: org/apache/spark/log4j2-defaults.properties\n",
      "Setting default log level to \"WARN\".\n",
      "To adjust logging level use sc.setLogLevel(newLevel). For SparkR, use setLogLevel(newLevel).\n"
     ]
    },
    {
     "name": "stderr",
     "output_type": "stream",
     "text": [
      "25/09/03 15:22:55 WARN NativeCodeLoader: Unable to load native-hadoop library for your platform... using builtin-java classes where applicable\n"
     ]
    },
    {
     "name": "stderr",
     "output_type": "stream",
     "text": [
      "25/09/03 15:22:56 WARN SparkSession: Using an existing Spark session; only runtime SQL configurations will take effect.\n"
     ]
    },
    {
     "name": "stdout",
     "output_type": "stream",
     "text": [
      "root\n",
      " |-- aircraft_iata: string (nullable = true)\n",
      " |-- aircraft_icao: string (nullable = true)\n",
      " |-- aircraft_icao24: string (nullable = true)\n",
      " |-- aircraft_manufacturer: string (nullable = true)\n",
      " |-- aircraft_model: string (nullable = true)\n",
      " |-- aircraft_registration: string (nullable = true)\n",
      " |-- airline_iata: string (nullable = true)\n",
      " |-- airline_icao: string (nullable = true)\n",
      " |-- airline_name: string (nullable = true)\n",
      " |-- arrival_actual: string (nullable = true)\n",
      " |-- arrival_actual_runway: string (nullable = true)\n",
      " |-- arrival_airport: string (nullable = true)\n",
      " |-- arrival_baggage: string (nullable = true)\n",
      " |-- arrival_delay: long (nullable = true)\n",
      " |-- arrival_estimated: string (nullable = true)\n",
      " |-- arrival_estimated_runway: string (nullable = true)\n",
      " |-- arrival_gate: string (nullable = true)\n",
      " |-- arrival_iata: string (nullable = true)\n",
      " |-- arrival_icao: string (nullable = true)\n",
      " |-- arrival_scheduled: string (nullable = true)\n",
      " |-- arrival_terminal: string (nullable = true)\n",
      " |-- arrival_timezone: string (nullable = true)\n",
      " |-- departure_actual: string (nullable = true)\n",
      " |-- departure_actual_runway: string (nullable = true)\n",
      " |-- departure_airport: string (nullable = true)\n",
      " |-- departure_delay: long (nullable = true)\n",
      " |-- departure_estimated: string (nullable = true)\n",
      " |-- departure_estimated_runway: string (nullable = true)\n",
      " |-- departure_gate: string (nullable = true)\n",
      " |-- departure_iata: string (nullable = true)\n",
      " |-- departure_icao: string (nullable = true)\n",
      " |-- departure_scheduled: string (nullable = true)\n",
      " |-- departure_terminal: string (nullable = true)\n",
      " |-- departure_timezone: string (nullable = true)\n",
      " |-- flight_codeshared_airline_iata: string (nullable = true)\n",
      " |-- flight_codeshared_airline_icao: string (nullable = true)\n",
      " |-- flight_codeshared_airline_name: string (nullable = true)\n",
      " |-- flight_codeshared_flight_iata: string (nullable = true)\n",
      " |-- flight_codeshared_flight_icao: string (nullable = true)\n",
      " |-- flight_codeshared_flight_number: string (nullable = true)\n",
      " |-- flight_iata: string (nullable = true)\n",
      " |-- flight_icao: string (nullable = true)\n",
      " |-- flight_number: string (nullable = true)\n",
      " |-- flight_date: string (nullable = true)\n",
      " |-- flight_status: string (nullable = true)\n",
      " |-- live: string (nullable = true)\n",
      "\n"
     ]
    },
    {
     "name": "stderr",
     "output_type": "stream",
     "text": [
      "25/09/03 15:22:57 WARN SparkStringUtils: Truncated the string representation of a plan since it was too large. This behavior can be adjusted by setting 'spark.sql.debug.maxToStringFields'.\n"
     ]
    },
    {
     "name": "stdout",
     "output_type": "stream",
     "text": [
      "+-------------+-------------+---------------+---------------------+--------------+---------------------+------------+------------+-----------------------+-------------------------+-------------------------+--------------------------------------+---------------+-------------+-------------------------+-------------------------+------------+------------+------------+-------------------------+----------------+----------------+-------------------------+-------------------------+----------------------------------+---------------+-------------------------+--------------------------+--------------+--------------+--------------+-------------------------+------------------+-------------------+------------------------------+------------------------------+------------------------------+-----------------------------+-----------------------------+-------------------------------+-----------+-----------+-------------+-----------+-------------+----+\n",
      "|aircraft_iata|aircraft_icao|aircraft_icao24|aircraft_manufacturer|aircraft_model|aircraft_registration|airline_iata|airline_icao|airline_name           |arrival_actual           |arrival_actual_runway    |arrival_airport                       |arrival_baggage|arrival_delay|arrival_estimated        |arrival_estimated_runway |arrival_gate|arrival_iata|arrival_icao|arrival_scheduled        |arrival_terminal|arrival_timezone|departure_actual         |departure_actual_runway  |departure_airport                 |departure_delay|departure_estimated      |departure_estimated_runway|departure_gate|departure_iata|departure_icao|departure_scheduled      |departure_terminal|departure_timezone |flight_codeshared_airline_iata|flight_codeshared_airline_icao|flight_codeshared_airline_name|flight_codeshared_flight_iata|flight_codeshared_flight_icao|flight_codeshared_flight_number|flight_iata|flight_icao|flight_number|flight_date|flight_status|live|\n",
      "+-------------+-------------+---------------+---------------------+--------------+---------------------+------------+------------+-----------------------+-------------------------+-------------------------+--------------------------------------+---------------+-------------+-------------------------+-------------------------+------------+------------+------------+-------------------------+----------------+----------------+-------------------------+-------------------------+----------------------------------+---------------+-------------------------+--------------------------+--------------+--------------+--------------+-------------------------+------------------+-------------------+------------------------------+------------------------------+------------------------------+-----------------------------+-----------------------------+-------------------------------+-----------+-----------+-------------+-----------+-------------+----+\n",
      "|AT7          |AT76         |d236e3         |ATR                  |72-600        |PK-VV4               |ET          |ETH         |Ethiopian Airlines     |2025-09-02T05:02:00+00:00|2025-09-02T05:02:00+00:00|Budapest Ferenc Liszt International   |5              |NULL         |2025-09-02T05:02:00+00:00|2025-09-02T05:02:00+00:00|D8          |BUD         |LHBP        |2025-09-02T05:02:00+00:00|1               |Europe/Budapest |2025-09-01T20:02:00+00:00|2025-09-01T20:02:00+00:00|Miami International Airport       |36             |2025-09-01T20:02:00+00:00|2025-09-01T20:02:00+00:00 |D4            |MIA           |KMIA          |2025-09-01T20:02:00+00:00|1                 |America/New_York   |NULL                          |NULL                          |NULL                          |NULL                         |NULL                         |NULL                           |ET1383     |ETH1383    |1383         |2025-09-01 |landed       |NULL|\n",
      "|77W          |B77W         |ee6ec0         |Boeing               |777-300ER     |VT-VIG               |6E          |IGO         |IndiGo                 |2025-09-01T12:09:00+00:00|2025-09-01T12:09:00+00:00|Riyadh King Khalid Intl               |5              |13           |2025-09-01T12:09:00+00:00|2025-09-01T12:09:00+00:00|B6          |RUH         |OERK        |2025-09-01T12:09:00+00:00|2               |Asia/Riyadh     |2025-09-01T04:09:00+00:00|2025-09-01T04:09:00+00:00|Kuala Lumpur International Airport|16             |2025-09-01T04:09:00+00:00|2025-09-01T04:09:00+00:00 |B2            |KUL           |WMKK          |2025-09-01T04:09:00+00:00|1                 |Asia/Kuala_Lumpur  |sq                            |sia                           |singapore airlines            |sq4497                       |sia4497                      |4497                           |6E3121     |IGO3121    |3121         |2025-09-01 |landed       |NULL|\n",
      "|77W          |B77W         |831b31         |Boeing               |777-300ER     |VT-IKI               |QR          |QTR         |Qatar Airways          |2025-09-01T17:47:00+00:00|2025-09-01T17:47:00+00:00|Oslo Gardermoen Airport               |22             |NULL         |2025-09-01T17:47:00+00:00|2025-09-01T17:47:00+00:00|D8          |OSL         |ENGM        |2025-09-01T17:47:00+00:00|2               |Europe/Oslo     |2025-09-01T07:47:00+00:00|2025-09-01T07:47:00+00:00|Los Angeles International Airport |NULL           |2025-09-01T07:47:00+00:00|2025-09-01T07:47:00+00:00 |C3            |LAX           |KLAX          |2025-09-01T07:47:00+00:00|3                 |America/Los_Angeles|tr                            |tgw                           |scoot                         |tr4055                       |tgw4055                      |4055                           |QR5761     |QTR5761    |5761         |2025-09-01 |landed       |NULL|\n",
      "|A320         |A320         |a11cfd         |Airbus               |A320-200      |N-LTV                |WY          |OMA         |Oman Air               |NULL                     |NULL                     |Colombo Bandaranaike Intl             |NULL           |NULL         |NULL                     |NULL                     |NULL        |CMB         |VCBI        |2025-09-01T12:14:00+00:00|1               |Asia/Colombo    |NULL                     |NULL                     |Vientiane Wattay Intl             |19             |2025-09-01T03:14:00+00:00|NULL                      |NULL          |VTE           |VLVT          |2025-09-01T03:14:00+00:00|3                 |Asia/Vientiane     |NULL                          |NULL                          |NULL                          |NULL                         |NULL                         |NULL                           |WY8186     |OMA8186    |8186         |2025-09-01 |delayed      |NULL|\n",
      "|E95          |E295         |eebbb3         |Embraer              |E195-E2       |HL-XBM               |G8          |GOW         |Go First               |2025-09-01T19:14:00+00:00|2025-09-01T19:14:00+00:00|Beirut–Rafic Hariri Intl              |8              |NULL         |2025-09-01T19:14:00+00:00|2025-09-01T19:14:00+00:00|C7          |BEY         |OLBA        |2025-09-01T19:14:00+00:00|2               |Asia/Beirut     |2025-09-01T15:14:00+00:00|2025-09-01T15:14:00+00:00|Perth Airport                     |NULL           |2025-09-01T15:14:00+00:00|2025-09-01T15:14:00+00:00 |A1            |PER           |YPPH          |2025-09-01T15:14:00+00:00|M                 |Australia/Perth    |NULL                          |NULL                          |NULL                          |NULL                         |NULL                         |NULL                           |G86472     |GOW6472    |6472         |2025-09-01 |landed       |NULL|\n",
      "|A320         |A320         |ad4242         |Airbus               |A320-200      |N-U2X                |AD          |AZU         |Azul Brazilian Airlines|NULL                     |NULL                     |Wellington Airport                    |NULL           |NULL         |NULL                     |NULL                     |NULL        |WLG         |NZWN        |2025-09-01T20:20:00+00:00|1               |Pacific/Auckland|NULL                     |NULL                     |Cairo International Airport       |NULL           |2025-09-01T15:20:00+00:00|NULL                      |NULL          |CAI           |HECA          |2025-09-01T15:20:00+00:00|2                 |Africa/Cairo       |wn                            |swa                           |southwest airlines            |wn6593                       |swa6593                      |6593                           |AD3867     |AZU3867    |3867         |2025-09-01 |cancelled    |NULL|\n",
      "|CR9          |CRJ9         |2d4511         |Bombardier           |CRJ900        |PK-QHP               |FR          |RYR         |Ryanair                |2025-09-01T08:36:00+00:00|2025-09-01T08:36:00+00:00|O'Hare International Airport          |5              |NULL         |2025-09-01T08:36:00+00:00|2025-09-01T08:36:00+00:00|A5          |ORD         |KORD        |2025-09-01T08:36:00+00:00|2               |America/Chicago |2025-09-01T05:36:00+00:00|2025-09-01T05:36:00+00:00|Vientiane Wattay Intl             |38             |2025-09-01T05:36:00+00:00|2025-09-01T05:36:00+00:00 |A1            |VTE           |VLVT          |2025-09-01T05:36:00+00:00|2                 |Asia/Vientiane     |g3                            |glo                           |gol linhas aéreas             |g3963                        |glo963                       |963                            |FR7600     |RYR7600    |7600         |2025-09-01 |landed       |NULL|\n",
      "|77W          |B77W         |1ed439         |Boeing               |777-300ER     |G-COI                |DL          |DAL         |Delta Air Lines        |2025-09-01T22:20:00+00:00|2025-09-01T22:20:00+00:00|Doha International Airport            |12             |44           |2025-09-01T22:20:00+00:00|2025-09-01T22:20:00+00:00|A5          |DOH         |OTHH        |2025-09-01T22:20:00+00:00|3               |Asia/Qatar      |2025-09-01T15:20:00+00:00|2025-09-01T15:20:00+00:00|Munich Airport                    |NULL           |2025-09-01T15:20:00+00:00|2025-09-01T15:20:00+00:00 |A1            |MUC           |EDDM          |2025-09-01T15:20:00+00:00|1                 |Europe/Berlin      |NULL                          |NULL                          |NULL                          |NULL                         |NULL                         |NULL                           |DL807      |DAL807     |807          |2025-09-01 |landed       |NULL|\n",
      "|AT7          |AT76         |093155         |ATR                  |72-600        |VT-YJU               |DL          |DAL         |Delta Air Lines        |2025-09-01T08:59:00+00:00|2025-09-01T08:59:00+00:00|Islamabad International Airport       |5              |54           |2025-09-01T08:59:00+00:00|2025-09-01T08:59:00+00:00|A5          |ISB         |OPIS        |2025-09-01T08:59:00+00:00|M               |Asia/Karachi    |2025-09-01T03:59:00+00:00|2025-09-01T03:59:00+00:00|Abu Dhabi International Airport   |NULL           |2025-09-01T03:59:00+00:00|2025-09-01T03:59:00+00:00 |A1            |AUH           |OMAA          |2025-09-01T03:59:00+00:00|1                 |Asia/Dubai         |mh                            |mas                           |malaysia airlines             |mh919                        |mas919                       |919                            |DL4035     |DAL4035    |4035         |2025-09-01 |landed       |NULL|\n",
      "|AT7          |AT76         |3c8968         |ATR                  |72-600        |JA-7JS               |TR          |TGW         |Scoot                  |2025-09-02T05:11:00+00:00|2025-09-02T05:11:00+00:00|Guangzhou Baiyun International Airport|22             |13           |2025-09-02T05:11:00+00:00|2025-09-02T05:11:00+00:00|C7          |CAN         |ZGGG        |2025-09-02T05:11:00+00:00|M               |Asia/Shanghai   |2025-09-01T18:11:00+00:00|2025-09-01T18:11:00+00:00|Kolkata Netaji Subhas Chandra Bose|6              |2025-09-01T18:11:00+00:00|2025-09-01T18:11:00+00:00 |C3            |CCU           |VECC          |2025-09-01T18:11:00+00:00|M                 |Asia/Kolkata       |et                            |eth                           |ethiopian airlines            |et9211                       |eth9211                      |9211                           |TR2705     |TGW2705    |2705         |2025-09-01 |landed       |NULL|\n",
      "+-------------+-------------+---------------+---------------------+--------------+---------------------+------------+------------+-----------------------+-------------------------+-------------------------+--------------------------------------+---------------+-------------+-------------------------+-------------------------+------------+------------+------------+-------------------------+----------------+----------------+-------------------------+-------------------------+----------------------------------+---------------+-------------------------+--------------------------+--------------+--------------+--------------+-------------------------+------------------+-------------------+------------------------------+------------------------------+------------------------------+-----------------------------+-----------------------------+-------------------------------+-----------+-----------+-------------+-----------+-------------+----+\n",
      "only showing top 10 rows\n"
     ]
    }
   ],
   "source": [
    "import sys, os\n",
    "\n",
    "# Always go 1 level up from \"transformation for use cases\" to project root\n",
    "project_root = os.path.abspath(os.path.join(os.getcwd(), \"..\"))\n",
    "if project_root not in sys.path:\n",
    "    sys.path.insert(0, project_root)\n",
    "\n",
    "from pyspark.sql import SparkSession\n",
    "from pyspark.sql import functions as F\n",
    "import plotly.express as px\n",
    "from loading.loader import write_to_mysql\n",
    "\n",
    "spark = SparkSession.builder \\\n",
    "    .appName(\"Airport Traffic Monitor\") \\\n",
    "    .getOrCreate()\n",
    "\n",
    "parquet_path = \"/Users/parthmac/Desktop/Projects/Flight Data Engineering/data/wrangled data/flattened_flight_data_parquet\"\n",
    "df = spark.read.parquet(parquet_path)\n",
    "\n",
    "df.printSchema()\n",
    "df.show(10, truncate=False)"
   ]
  },
  {
   "cell_type": "code",
   "execution_count": 2,
   "id": "a1f6c986",
   "metadata": {
    "execution": {
     "iopub.execute_input": "2025-09-03T09:52:58.188625Z",
     "iopub.status.busy": "2025-09-03T09:52:58.188502Z",
     "iopub.status.idle": "2025-09-03T09:52:58.610335Z",
     "shell.execute_reply": "2025-09-03T09:52:58.609840Z"
    },
    "jupyter": {
     "source_hidden": true
    },
    "papermill": {
     "duration": 0.424331,
     "end_time": "2025-09-03T09:52:58.611855",
     "exception": false,
     "start_time": "2025-09-03T09:52:58.187524",
     "status": "completed"
    },
    "tags": []
   },
   "outputs": [
    {
     "name": "stdout",
     "output_type": "stream",
     "text": [
      "+-------------+-----+\n",
      "|flight_status|count|\n",
      "+-------------+-----+\n",
      "|landed       |80214|\n",
      "|cancelled    |9982 |\n",
      "|delayed      |9804 |\n",
      "+-------------+-----+\n",
      "\n"
     ]
    }
   ],
   "source": [
    "flight_status_counts = df.groupBy(\"flight_status\").agg(F.count(\"*\").alias(\"count\")).orderBy(F.desc(\"count\"))\n",
    "flight_status_counts.show(truncate=False)"
   ]
  },
  {
   "cell_type": "code",
   "execution_count": 3,
   "id": "b448d106",
   "metadata": {
    "execution": {
     "iopub.execute_input": "2025-09-03T09:52:58.614361Z",
     "iopub.status.busy": "2025-09-03T09:52:58.614255Z",
     "iopub.status.idle": "2025-09-03T09:52:58.928262Z",
     "shell.execute_reply": "2025-09-03T09:52:58.928011Z"
    },
    "jupyter": {
     "source_hidden": true
    },
    "papermill": {
     "duration": 0.315945,
     "end_time": "2025-09-03T09:52:58.928988",
     "exception": false,
     "start_time": "2025-09-03T09:52:58.613043",
     "status": "completed"
    },
    "tags": []
   },
   "outputs": [
    {
     "data": {
      "application/vnd.plotly.v1+json": {
       "config": {
        "plotlyServerURL": "https://plot.ly"
       },
       "data": [
        {
         "customdata": [
          [
           "landed"
          ],
          [
           "cancelled"
          ],
          [
           "delayed"
          ]
         ],
         "domain": {
          "x": [
           0.0,
           1.0
          ],
          "y": [
           0.0,
           1.0
          ]
         },
         "hole": 0.4,
         "hovertemplate": "flight_status=%{customdata[0]}<br>count=%{value}<extra></extra>",
         "labels": [
          "landed",
          "cancelled",
          "delayed"
         ],
         "legendgroup": "",
         "marker": {
          "colors": [
           "#2ca02c",
           "#d62728",
           "#ff7f0e"
          ],
          "line": {
           "color": "#000000",
           "width": 2
          }
         },
         "name": "",
         "pull": [
          0.05,
          0.05,
          0.05,
          0.05
         ],
         "showlegend": true,
         "textinfo": "percent+label",
         "type": "pie",
         "values": {
          "bdata": "VjkBAP4mAABMJgAA",
          "dtype": "i4"
         }
        }
       ],
       "layout": {
        "legend": {
         "font": {
          "size": 14
         },
         "title": {
          "text": "Flight Status"
         },
         "tracegroupgap": 0
        },
        "margin": {
         "b": 0,
         "l": 0,
         "r": 0,
         "t": 50
        },
        "template": {
         "data": {
          "bar": [
           {
            "error_x": {
             "color": "#2a3f5f"
            },
            "error_y": {
             "color": "#2a3f5f"
            },
            "marker": {
             "line": {
              "color": "#E5ECF6",
              "width": 0.5
             },
             "pattern": {
              "fillmode": "overlay",
              "size": 10,
              "solidity": 0.2
             }
            },
            "type": "bar"
           }
          ],
          "barpolar": [
           {
            "marker": {
             "line": {
              "color": "#E5ECF6",
              "width": 0.5
             },
             "pattern": {
              "fillmode": "overlay",
              "size": 10,
              "solidity": 0.2
             }
            },
            "type": "barpolar"
           }
          ],
          "carpet": [
           {
            "aaxis": {
             "endlinecolor": "#2a3f5f",
             "gridcolor": "white",
             "linecolor": "white",
             "minorgridcolor": "white",
             "startlinecolor": "#2a3f5f"
            },
            "baxis": {
             "endlinecolor": "#2a3f5f",
             "gridcolor": "white",
             "linecolor": "white",
             "minorgridcolor": "white",
             "startlinecolor": "#2a3f5f"
            },
            "type": "carpet"
           }
          ],
          "choropleth": [
           {
            "colorbar": {
             "outlinewidth": 0,
             "ticks": ""
            },
            "type": "choropleth"
           }
          ],
          "contour": [
           {
            "colorbar": {
             "outlinewidth": 0,
             "ticks": ""
            },
            "colorscale": [
             [
              0.0,
              "#0d0887"
             ],
             [
              0.1111111111111111,
              "#46039f"
             ],
             [
              0.2222222222222222,
              "#7201a8"
             ],
             [
              0.3333333333333333,
              "#9c179e"
             ],
             [
              0.4444444444444444,
              "#bd3786"
             ],
             [
              0.5555555555555556,
              "#d8576b"
             ],
             [
              0.6666666666666666,
              "#ed7953"
             ],
             [
              0.7777777777777778,
              "#fb9f3a"
             ],
             [
              0.8888888888888888,
              "#fdca26"
             ],
             [
              1.0,
              "#f0f921"
             ]
            ],
            "type": "contour"
           }
          ],
          "contourcarpet": [
           {
            "colorbar": {
             "outlinewidth": 0,
             "ticks": ""
            },
            "type": "contourcarpet"
           }
          ],
          "heatmap": [
           {
            "colorbar": {
             "outlinewidth": 0,
             "ticks": ""
            },
            "colorscale": [
             [
              0.0,
              "#0d0887"
             ],
             [
              0.1111111111111111,
              "#46039f"
             ],
             [
              0.2222222222222222,
              "#7201a8"
             ],
             [
              0.3333333333333333,
              "#9c179e"
             ],
             [
              0.4444444444444444,
              "#bd3786"
             ],
             [
              0.5555555555555556,
              "#d8576b"
             ],
             [
              0.6666666666666666,
              "#ed7953"
             ],
             [
              0.7777777777777778,
              "#fb9f3a"
             ],
             [
              0.8888888888888888,
              "#fdca26"
             ],
             [
              1.0,
              "#f0f921"
             ]
            ],
            "type": "heatmap"
           }
          ],
          "histogram": [
           {
            "marker": {
             "pattern": {
              "fillmode": "overlay",
              "size": 10,
              "solidity": 0.2
             }
            },
            "type": "histogram"
           }
          ],
          "histogram2d": [
           {
            "colorbar": {
             "outlinewidth": 0,
             "ticks": ""
            },
            "colorscale": [
             [
              0.0,
              "#0d0887"
             ],
             [
              0.1111111111111111,
              "#46039f"
             ],
             [
              0.2222222222222222,
              "#7201a8"
             ],
             [
              0.3333333333333333,
              "#9c179e"
             ],
             [
              0.4444444444444444,
              "#bd3786"
             ],
             [
              0.5555555555555556,
              "#d8576b"
             ],
             [
              0.6666666666666666,
              "#ed7953"
             ],
             [
              0.7777777777777778,
              "#fb9f3a"
             ],
             [
              0.8888888888888888,
              "#fdca26"
             ],
             [
              1.0,
              "#f0f921"
             ]
            ],
            "type": "histogram2d"
           }
          ],
          "histogram2dcontour": [
           {
            "colorbar": {
             "outlinewidth": 0,
             "ticks": ""
            },
            "colorscale": [
             [
              0.0,
              "#0d0887"
             ],
             [
              0.1111111111111111,
              "#46039f"
             ],
             [
              0.2222222222222222,
              "#7201a8"
             ],
             [
              0.3333333333333333,
              "#9c179e"
             ],
             [
              0.4444444444444444,
              "#bd3786"
             ],
             [
              0.5555555555555556,
              "#d8576b"
             ],
             [
              0.6666666666666666,
              "#ed7953"
             ],
             [
              0.7777777777777778,
              "#fb9f3a"
             ],
             [
              0.8888888888888888,
              "#fdca26"
             ],
             [
              1.0,
              "#f0f921"
             ]
            ],
            "type": "histogram2dcontour"
           }
          ],
          "mesh3d": [
           {
            "colorbar": {
             "outlinewidth": 0,
             "ticks": ""
            },
            "type": "mesh3d"
           }
          ],
          "parcoords": [
           {
            "line": {
             "colorbar": {
              "outlinewidth": 0,
              "ticks": ""
             }
            },
            "type": "parcoords"
           }
          ],
          "pie": [
           {
            "automargin": true,
            "type": "pie"
           }
          ],
          "scatter": [
           {
            "fillpattern": {
             "fillmode": "overlay",
             "size": 10,
             "solidity": 0.2
            },
            "type": "scatter"
           }
          ],
          "scatter3d": [
           {
            "line": {
             "colorbar": {
              "outlinewidth": 0,
              "ticks": ""
             }
            },
            "marker": {
             "colorbar": {
              "outlinewidth": 0,
              "ticks": ""
             }
            },
            "type": "scatter3d"
           }
          ],
          "scattercarpet": [
           {
            "marker": {
             "colorbar": {
              "outlinewidth": 0,
              "ticks": ""
             }
            },
            "type": "scattercarpet"
           }
          ],
          "scattergeo": [
           {
            "marker": {
             "colorbar": {
              "outlinewidth": 0,
              "ticks": ""
             }
            },
            "type": "scattergeo"
           }
          ],
          "scattergl": [
           {
            "marker": {
             "colorbar": {
              "outlinewidth": 0,
              "ticks": ""
             }
            },
            "type": "scattergl"
           }
          ],
          "scattermap": [
           {
            "marker": {
             "colorbar": {
              "outlinewidth": 0,
              "ticks": ""
             }
            },
            "type": "scattermap"
           }
          ],
          "scattermapbox": [
           {
            "marker": {
             "colorbar": {
              "outlinewidth": 0,
              "ticks": ""
             }
            },
            "type": "scattermapbox"
           }
          ],
          "scatterpolar": [
           {
            "marker": {
             "colorbar": {
              "outlinewidth": 0,
              "ticks": ""
             }
            },
            "type": "scatterpolar"
           }
          ],
          "scatterpolargl": [
           {
            "marker": {
             "colorbar": {
              "outlinewidth": 0,
              "ticks": ""
             }
            },
            "type": "scatterpolargl"
           }
          ],
          "scatterternary": [
           {
            "marker": {
             "colorbar": {
              "outlinewidth": 0,
              "ticks": ""
             }
            },
            "type": "scatterternary"
           }
          ],
          "surface": [
           {
            "colorbar": {
             "outlinewidth": 0,
             "ticks": ""
            },
            "colorscale": [
             [
              0.0,
              "#0d0887"
             ],
             [
              0.1111111111111111,
              "#46039f"
             ],
             [
              0.2222222222222222,
              "#7201a8"
             ],
             [
              0.3333333333333333,
              "#9c179e"
             ],
             [
              0.4444444444444444,
              "#bd3786"
             ],
             [
              0.5555555555555556,
              "#d8576b"
             ],
             [
              0.6666666666666666,
              "#ed7953"
             ],
             [
              0.7777777777777778,
              "#fb9f3a"
             ],
             [
              0.8888888888888888,
              "#fdca26"
             ],
             [
              1.0,
              "#f0f921"
             ]
            ],
            "type": "surface"
           }
          ],
          "table": [
           {
            "cells": {
             "fill": {
              "color": "#EBF0F8"
             },
             "line": {
              "color": "white"
             }
            },
            "header": {
             "fill": {
              "color": "#C8D4E3"
             },
             "line": {
              "color": "white"
             }
            },
            "type": "table"
           }
          ]
         },
         "layout": {
          "annotationdefaults": {
           "arrowcolor": "#2a3f5f",
           "arrowhead": 0,
           "arrowwidth": 1
          },
          "autotypenumbers": "strict",
          "coloraxis": {
           "colorbar": {
            "outlinewidth": 0,
            "ticks": ""
           }
          },
          "colorscale": {
           "diverging": [
            [
             0,
             "#8e0152"
            ],
            [
             0.1,
             "#c51b7d"
            ],
            [
             0.2,
             "#de77ae"
            ],
            [
             0.3,
             "#f1b6da"
            ],
            [
             0.4,
             "#fde0ef"
            ],
            [
             0.5,
             "#f7f7f7"
            ],
            [
             0.6,
             "#e6f5d0"
            ],
            [
             0.7,
             "#b8e186"
            ],
            [
             0.8,
             "#7fbc41"
            ],
            [
             0.9,
             "#4d9221"
            ],
            [
             1,
             "#276419"
            ]
           ],
           "sequential": [
            [
             0.0,
             "#0d0887"
            ],
            [
             0.1111111111111111,
             "#46039f"
            ],
            [
             0.2222222222222222,
             "#7201a8"
            ],
            [
             0.3333333333333333,
             "#9c179e"
            ],
            [
             0.4444444444444444,
             "#bd3786"
            ],
            [
             0.5555555555555556,
             "#d8576b"
            ],
            [
             0.6666666666666666,
             "#ed7953"
            ],
            [
             0.7777777777777778,
             "#fb9f3a"
            ],
            [
             0.8888888888888888,
             "#fdca26"
            ],
            [
             1.0,
             "#f0f921"
            ]
           ],
           "sequentialminus": [
            [
             0.0,
             "#0d0887"
            ],
            [
             0.1111111111111111,
             "#46039f"
            ],
            [
             0.2222222222222222,
             "#7201a8"
            ],
            [
             0.3333333333333333,
             "#9c179e"
            ],
            [
             0.4444444444444444,
             "#bd3786"
            ],
            [
             0.5555555555555556,
             "#d8576b"
            ],
            [
             0.6666666666666666,
             "#ed7953"
            ],
            [
             0.7777777777777778,
             "#fb9f3a"
            ],
            [
             0.8888888888888888,
             "#fdca26"
            ],
            [
             1.0,
             "#f0f921"
            ]
           ]
          },
          "colorway": [
           "#636efa",
           "#EF553B",
           "#00cc96",
           "#ab63fa",
           "#FFA15A",
           "#19d3f3",
           "#FF6692",
           "#B6E880",
           "#FF97FF",
           "#FECB52"
          ],
          "font": {
           "color": "#2a3f5f"
          },
          "geo": {
           "bgcolor": "white",
           "lakecolor": "white",
           "landcolor": "#E5ECF6",
           "showlakes": true,
           "showland": true,
           "subunitcolor": "white"
          },
          "hoverlabel": {
           "align": "left"
          },
          "hovermode": "closest",
          "mapbox": {
           "style": "light"
          },
          "paper_bgcolor": "white",
          "plot_bgcolor": "#E5ECF6",
          "polar": {
           "angularaxis": {
            "gridcolor": "white",
            "linecolor": "white",
            "ticks": ""
           },
           "bgcolor": "#E5ECF6",
           "radialaxis": {
            "gridcolor": "white",
            "linecolor": "white",
            "ticks": ""
           }
          },
          "scene": {
           "xaxis": {
            "backgroundcolor": "#E5ECF6",
            "gridcolor": "white",
            "gridwidth": 2,
            "linecolor": "white",
            "showbackground": true,
            "ticks": "",
            "zerolinecolor": "white"
           },
           "yaxis": {
            "backgroundcolor": "#E5ECF6",
            "gridcolor": "white",
            "gridwidth": 2,
            "linecolor": "white",
            "showbackground": true,
            "ticks": "",
            "zerolinecolor": "white"
           },
           "zaxis": {
            "backgroundcolor": "#E5ECF6",
            "gridcolor": "white",
            "gridwidth": 2,
            "linecolor": "white",
            "showbackground": true,
            "ticks": "",
            "zerolinecolor": "white"
           }
          },
          "shapedefaults": {
           "line": {
            "color": "#2a3f5f"
           }
          },
          "ternary": {
           "aaxis": {
            "gridcolor": "white",
            "linecolor": "white",
            "ticks": ""
           },
           "baxis": {
            "gridcolor": "white",
            "linecolor": "white",
            "ticks": ""
           },
           "bgcolor": "#E5ECF6",
           "caxis": {
            "gridcolor": "white",
            "linecolor": "white",
            "ticks": ""
           }
          },
          "title": {
           "x": 0.05
          },
          "xaxis": {
           "automargin": true,
           "gridcolor": "white",
           "linecolor": "white",
           "ticks": "",
           "title": {
            "standoff": 15
           },
           "zerolinecolor": "white",
           "zerolinewidth": 2
          },
          "yaxis": {
           "automargin": true,
           "gridcolor": "white",
           "linecolor": "white",
           "ticks": "",
           "title": {
            "standoff": 15
           },
           "zerolinecolor": "white",
           "zerolinewidth": 2
          }
         }
        },
        "title": {
         "font": {
          "size": 24
         },
         "text": "✈️ Flight Status Distribution"
        }
       }
      }
     },
     "metadata": {},
     "output_type": "display_data"
    }
   ],
   "source": [
    "\n",
    "flight_status_counts_pd = flight_status_counts.toPandas()\n",
    "# Custom colors for each status\n",
    "colors = {\n",
    "    'landed': '#2ca02c',       # green\n",
    "    'delayed': '#ff7f0e',      # orange\n",
    "    'cancelled': '#d62728',    # red\n",
    "    'scheduled': '#1f77b4'     # blue\n",
    "}\n",
    "\n",
    "fig = px.pie(\n",
    "    flight_status_counts_pd,\n",
    "    names='flight_status',\n",
    "    values='count',\n",
    "    title='✈️ Flight Status Distribution',\n",
    "    color='flight_status',\n",
    "    color_discrete_map=colors,\n",
    "    hole=0.4  # makes it a donut chart\n",
    ")\n",
    "\n",
    "# Add count + percentage inside slices\n",
    "fig.update_traces(textinfo='percent+label', pull=[0.05, 0.05, 0.05, 0.05], marker=dict(line=dict(color='#000000', width=2)))\n",
    "\n",
    "# Layout styling\n",
    "fig.update_layout(\n",
    "    title_font_size=24,\n",
    "    legend_title_text='Flight Status',\n",
    "    legend_font_size=14,\n",
    "    margin=dict(t=50, b=0, l=0, r=0)\n",
    ")\n",
    "\n",
    "fig.show()\n"
   ]
  },
  {
   "cell_type": "code",
   "execution_count": 4,
   "id": "53cfb7db",
   "metadata": {
    "execution": {
     "iopub.execute_input": "2025-09-03T09:52:58.933100Z",
     "iopub.status.busy": "2025-09-03T09:52:58.933013Z",
     "iopub.status.idle": "2025-09-03T09:52:59.114891Z",
     "shell.execute_reply": "2025-09-03T09:52:59.114497Z"
    },
    "jupyter": {
     "source_hidden": true
    },
    "papermill": {
     "duration": 0.185148,
     "end_time": "2025-09-03T09:52:59.116004",
     "exception": false,
     "start_time": "2025-09-03T09:52:58.930856",
     "status": "completed"
    },
    "tags": []
   },
   "outputs": [
    {
     "name": "stdout",
     "output_type": "stream",
     "text": [
      "+-----------+-------------+-----+\n",
      "|flight_date|flight_status|count|\n",
      "+-----------+-------------+-----+\n",
      "|2025-08-24 |delayed      |971  |\n",
      "|2025-08-24 |cancelled    |1063 |\n",
      "|2025-08-25 |delayed      |970  |\n",
      "|2025-08-25 |cancelled    |1013 |\n",
      "|2025-08-26 |cancelled    |973  |\n",
      "|2025-08-26 |delayed      |1030 |\n",
      "|2025-08-27 |cancelled    |945  |\n",
      "|2025-08-27 |delayed      |947  |\n",
      "|2025-08-28 |delayed      |961  |\n",
      "|2025-08-28 |cancelled    |1052 |\n",
      "+-----------+-------------+-----+\n",
      "only showing top 10 rows\n"
     ]
    }
   ],
   "source": [
    "# Aggregate cancelled and delayed flights by date\n",
    "status_trend = (\n",
    "    df.filter(F.col(\"flight_status\").isin(\"cancelled\", \"delayed\"))\n",
    "      .groupBy(\"flight_date\", \"flight_status\")\n",
    "      .agg(F.count(\"*\").alias(\"count\"))\n",
    "      .orderBy(\"flight_date\")\n",
    ")\n",
    "\n",
    "status_trend.show(10, truncate=False)"
   ]
  },
  {
   "cell_type": "code",
   "execution_count": 5,
   "id": "92471af7",
   "metadata": {
    "execution": {
     "iopub.execute_input": "2025-09-03T09:52:59.120789Z",
     "iopub.status.busy": "2025-09-03T09:52:59.120694Z",
     "iopub.status.idle": "2025-09-03T09:52:59.286227Z",
     "shell.execute_reply": "2025-09-03T09:52:59.285887Z"
    },
    "jupyter": {
     "source_hidden": true
    },
    "papermill": {
     "duration": 0.168642,
     "end_time": "2025-09-03T09:52:59.287209",
     "exception": false,
     "start_time": "2025-09-03T09:52:59.118567",
     "status": "completed"
    },
    "tags": []
   },
   "outputs": [
    {
     "data": {
      "application/vnd.plotly.v1+json": {
       "config": {
        "plotlyServerURL": "https://plot.ly"
       },
       "data": [
        {
         "hovertemplate": "Date: %{x}<br>%{legendgroup} Flights: %{y}",
         "legendgroup": "delayed",
         "line": {
          "color": "#b6d627",
          "dash": "solid",
          "width": 4
         },
         "marker": {
          "size": 10,
          "symbol": "circle"
         },
         "mode": "lines+markers",
         "name": "delayed",
         "orientation": "v",
         "showlegend": true,
         "type": "scatter",
         "x": [
          "2025-08-24",
          "2025-08-25",
          "2025-08-26",
          "2025-08-27",
          "2025-08-28",
          "2025-08-29",
          "2025-08-30",
          "2025-08-31",
          "2025-09-01",
          "2025-09-02"
         ],
         "xaxis": "x",
         "y": {
          "bdata": "ywPKAwYEswPBA6cD/gPHAwUEzAM=",
          "dtype": "i2"
         },
         "yaxis": "y"
        },
        {
         "hovertemplate": "Date: %{x}<br>%{legendgroup} Flights: %{y}",
         "legendgroup": "cancelled",
         "line": {
          "color": "#c1100d",
          "dash": "solid",
          "width": 4
         },
         "marker": {
          "size": 10,
          "symbol": "circle"
         },
         "mode": "lines+markers",
         "name": "cancelled",
         "orientation": "v",
         "showlegend": true,
         "type": "scatter",
         "x": [
          "2025-08-24",
          "2025-08-25",
          "2025-08-26",
          "2025-08-27",
          "2025-08-28",
          "2025-08-29",
          "2025-08-30",
          "2025-08-31",
          "2025-09-01",
          "2025-09-02"
         ],
         "xaxis": "x",
         "y": {
          "bdata": "JwT1A80DsQMcBOIDvAMbBNcDuAM=",
          "dtype": "i2"
         },
         "yaxis": "y"
        },
        {
         "marker": {
          "color": "grey",
          "size": 14,
          "symbol": "diamond"
         },
         "mode": "markers+text",
         "showlegend": false,
         "text": [
          "<b>Peak Cancelled: 1063</b>"
         ],
         "textfont": {
          "color": "black",
          "size": 11
         },
         "textposition": "top center",
         "type": "scatter",
         "x": [
          "2025-08-24"
         ],
         "y": [
          1063
         ]
        },
        {
         "marker": {
          "color": "grey",
          "size": 14,
          "symbol": "star"
         },
         "mode": "markers+text",
         "showlegend": false,
         "text": [
          "<b>Peak Delayed: 1030</b>"
         ],
         "textfont": {
          "color": "black",
          "size": 11
         },
         "textposition": "top center",
         "type": "scatter",
         "x": [
          "2025-08-26"
         ],
         "y": [
          1030
         ]
        }
       ],
       "layout": {
        "hovermode": "x unified",
        "legend": {
         "orientation": "v",
         "title": {
          "text": "Flight Status"
         },
         "tracegroupgap": 0,
         "x": 1.05,
         "xanchor": "left",
         "y": 1,
         "yanchor": "top"
        },
        "margin": {
         "b": 50,
         "l": 80,
         "r": 150,
         "t": 50
        },
        "plot_bgcolor": "white",
        "template": {
         "data": {
          "bar": [
           {
            "error_x": {
             "color": "#2a3f5f"
            },
            "error_y": {
             "color": "#2a3f5f"
            },
            "marker": {
             "line": {
              "color": "#E5ECF6",
              "width": 0.5
             },
             "pattern": {
              "fillmode": "overlay",
              "size": 10,
              "solidity": 0.2
             }
            },
            "type": "bar"
           }
          ],
          "barpolar": [
           {
            "marker": {
             "line": {
              "color": "#E5ECF6",
              "width": 0.5
             },
             "pattern": {
              "fillmode": "overlay",
              "size": 10,
              "solidity": 0.2
             }
            },
            "type": "barpolar"
           }
          ],
          "carpet": [
           {
            "aaxis": {
             "endlinecolor": "#2a3f5f",
             "gridcolor": "white",
             "linecolor": "white",
             "minorgridcolor": "white",
             "startlinecolor": "#2a3f5f"
            },
            "baxis": {
             "endlinecolor": "#2a3f5f",
             "gridcolor": "white",
             "linecolor": "white",
             "minorgridcolor": "white",
             "startlinecolor": "#2a3f5f"
            },
            "type": "carpet"
           }
          ],
          "choropleth": [
           {
            "colorbar": {
             "outlinewidth": 0,
             "ticks": ""
            },
            "type": "choropleth"
           }
          ],
          "contour": [
           {
            "colorbar": {
             "outlinewidth": 0,
             "ticks": ""
            },
            "colorscale": [
             [
              0.0,
              "#0d0887"
             ],
             [
              0.1111111111111111,
              "#46039f"
             ],
             [
              0.2222222222222222,
              "#7201a8"
             ],
             [
              0.3333333333333333,
              "#9c179e"
             ],
             [
              0.4444444444444444,
              "#bd3786"
             ],
             [
              0.5555555555555556,
              "#d8576b"
             ],
             [
              0.6666666666666666,
              "#ed7953"
             ],
             [
              0.7777777777777778,
              "#fb9f3a"
             ],
             [
              0.8888888888888888,
              "#fdca26"
             ],
             [
              1.0,
              "#f0f921"
             ]
            ],
            "type": "contour"
           }
          ],
          "contourcarpet": [
           {
            "colorbar": {
             "outlinewidth": 0,
             "ticks": ""
            },
            "type": "contourcarpet"
           }
          ],
          "heatmap": [
           {
            "colorbar": {
             "outlinewidth": 0,
             "ticks": ""
            },
            "colorscale": [
             [
              0.0,
              "#0d0887"
             ],
             [
              0.1111111111111111,
              "#46039f"
             ],
             [
              0.2222222222222222,
              "#7201a8"
             ],
             [
              0.3333333333333333,
              "#9c179e"
             ],
             [
              0.4444444444444444,
              "#bd3786"
             ],
             [
              0.5555555555555556,
              "#d8576b"
             ],
             [
              0.6666666666666666,
              "#ed7953"
             ],
             [
              0.7777777777777778,
              "#fb9f3a"
             ],
             [
              0.8888888888888888,
              "#fdca26"
             ],
             [
              1.0,
              "#f0f921"
             ]
            ],
            "type": "heatmap"
           }
          ],
          "histogram": [
           {
            "marker": {
             "pattern": {
              "fillmode": "overlay",
              "size": 10,
              "solidity": 0.2
             }
            },
            "type": "histogram"
           }
          ],
          "histogram2d": [
           {
            "colorbar": {
             "outlinewidth": 0,
             "ticks": ""
            },
            "colorscale": [
             [
              0.0,
              "#0d0887"
             ],
             [
              0.1111111111111111,
              "#46039f"
             ],
             [
              0.2222222222222222,
              "#7201a8"
             ],
             [
              0.3333333333333333,
              "#9c179e"
             ],
             [
              0.4444444444444444,
              "#bd3786"
             ],
             [
              0.5555555555555556,
              "#d8576b"
             ],
             [
              0.6666666666666666,
              "#ed7953"
             ],
             [
              0.7777777777777778,
              "#fb9f3a"
             ],
             [
              0.8888888888888888,
              "#fdca26"
             ],
             [
              1.0,
              "#f0f921"
             ]
            ],
            "type": "histogram2d"
           }
          ],
          "histogram2dcontour": [
           {
            "colorbar": {
             "outlinewidth": 0,
             "ticks": ""
            },
            "colorscale": [
             [
              0.0,
              "#0d0887"
             ],
             [
              0.1111111111111111,
              "#46039f"
             ],
             [
              0.2222222222222222,
              "#7201a8"
             ],
             [
              0.3333333333333333,
              "#9c179e"
             ],
             [
              0.4444444444444444,
              "#bd3786"
             ],
             [
              0.5555555555555556,
              "#d8576b"
             ],
             [
              0.6666666666666666,
              "#ed7953"
             ],
             [
              0.7777777777777778,
              "#fb9f3a"
             ],
             [
              0.8888888888888888,
              "#fdca26"
             ],
             [
              1.0,
              "#f0f921"
             ]
            ],
            "type": "histogram2dcontour"
           }
          ],
          "mesh3d": [
           {
            "colorbar": {
             "outlinewidth": 0,
             "ticks": ""
            },
            "type": "mesh3d"
           }
          ],
          "parcoords": [
           {
            "line": {
             "colorbar": {
              "outlinewidth": 0,
              "ticks": ""
             }
            },
            "type": "parcoords"
           }
          ],
          "pie": [
           {
            "automargin": true,
            "type": "pie"
           }
          ],
          "scatter": [
           {
            "fillpattern": {
             "fillmode": "overlay",
             "size": 10,
             "solidity": 0.2
            },
            "type": "scatter"
           }
          ],
          "scatter3d": [
           {
            "line": {
             "colorbar": {
              "outlinewidth": 0,
              "ticks": ""
             }
            },
            "marker": {
             "colorbar": {
              "outlinewidth": 0,
              "ticks": ""
             }
            },
            "type": "scatter3d"
           }
          ],
          "scattercarpet": [
           {
            "marker": {
             "colorbar": {
              "outlinewidth": 0,
              "ticks": ""
             }
            },
            "type": "scattercarpet"
           }
          ],
          "scattergeo": [
           {
            "marker": {
             "colorbar": {
              "outlinewidth": 0,
              "ticks": ""
             }
            },
            "type": "scattergeo"
           }
          ],
          "scattergl": [
           {
            "marker": {
             "colorbar": {
              "outlinewidth": 0,
              "ticks": ""
             }
            },
            "type": "scattergl"
           }
          ],
          "scattermap": [
           {
            "marker": {
             "colorbar": {
              "outlinewidth": 0,
              "ticks": ""
             }
            },
            "type": "scattermap"
           }
          ],
          "scattermapbox": [
           {
            "marker": {
             "colorbar": {
              "outlinewidth": 0,
              "ticks": ""
             }
            },
            "type": "scattermapbox"
           }
          ],
          "scatterpolar": [
           {
            "marker": {
             "colorbar": {
              "outlinewidth": 0,
              "ticks": ""
             }
            },
            "type": "scatterpolar"
           }
          ],
          "scatterpolargl": [
           {
            "marker": {
             "colorbar": {
              "outlinewidth": 0,
              "ticks": ""
             }
            },
            "type": "scatterpolargl"
           }
          ],
          "scatterternary": [
           {
            "marker": {
             "colorbar": {
              "outlinewidth": 0,
              "ticks": ""
             }
            },
            "type": "scatterternary"
           }
          ],
          "surface": [
           {
            "colorbar": {
             "outlinewidth": 0,
             "ticks": ""
            },
            "colorscale": [
             [
              0.0,
              "#0d0887"
             ],
             [
              0.1111111111111111,
              "#46039f"
             ],
             [
              0.2222222222222222,
              "#7201a8"
             ],
             [
              0.3333333333333333,
              "#9c179e"
             ],
             [
              0.4444444444444444,
              "#bd3786"
             ],
             [
              0.5555555555555556,
              "#d8576b"
             ],
             [
              0.6666666666666666,
              "#ed7953"
             ],
             [
              0.7777777777777778,
              "#fb9f3a"
             ],
             [
              0.8888888888888888,
              "#fdca26"
             ],
             [
              1.0,
              "#f0f921"
             ]
            ],
            "type": "surface"
           }
          ],
          "table": [
           {
            "cells": {
             "fill": {
              "color": "#EBF0F8"
             },
             "line": {
              "color": "white"
             }
            },
            "header": {
             "fill": {
              "color": "#C8D4E3"
             },
             "line": {
              "color": "white"
             }
            },
            "type": "table"
           }
          ]
         },
         "layout": {
          "annotationdefaults": {
           "arrowcolor": "#2a3f5f",
           "arrowhead": 0,
           "arrowwidth": 1
          },
          "autotypenumbers": "strict",
          "coloraxis": {
           "colorbar": {
            "outlinewidth": 0,
            "ticks": ""
           }
          },
          "colorscale": {
           "diverging": [
            [
             0,
             "#8e0152"
            ],
            [
             0.1,
             "#c51b7d"
            ],
            [
             0.2,
             "#de77ae"
            ],
            [
             0.3,
             "#f1b6da"
            ],
            [
             0.4,
             "#fde0ef"
            ],
            [
             0.5,
             "#f7f7f7"
            ],
            [
             0.6,
             "#e6f5d0"
            ],
            [
             0.7,
             "#b8e186"
            ],
            [
             0.8,
             "#7fbc41"
            ],
            [
             0.9,
             "#4d9221"
            ],
            [
             1,
             "#276419"
            ]
           ],
           "sequential": [
            [
             0.0,
             "#0d0887"
            ],
            [
             0.1111111111111111,
             "#46039f"
            ],
            [
             0.2222222222222222,
             "#7201a8"
            ],
            [
             0.3333333333333333,
             "#9c179e"
            ],
            [
             0.4444444444444444,
             "#bd3786"
            ],
            [
             0.5555555555555556,
             "#d8576b"
            ],
            [
             0.6666666666666666,
             "#ed7953"
            ],
            [
             0.7777777777777778,
             "#fb9f3a"
            ],
            [
             0.8888888888888888,
             "#fdca26"
            ],
            [
             1.0,
             "#f0f921"
            ]
           ],
           "sequentialminus": [
            [
             0.0,
             "#0d0887"
            ],
            [
             0.1111111111111111,
             "#46039f"
            ],
            [
             0.2222222222222222,
             "#7201a8"
            ],
            [
             0.3333333333333333,
             "#9c179e"
            ],
            [
             0.4444444444444444,
             "#bd3786"
            ],
            [
             0.5555555555555556,
             "#d8576b"
            ],
            [
             0.6666666666666666,
             "#ed7953"
            ],
            [
             0.7777777777777778,
             "#fb9f3a"
            ],
            [
             0.8888888888888888,
             "#fdca26"
            ],
            [
             1.0,
             "#f0f921"
            ]
           ]
          },
          "colorway": [
           "#636efa",
           "#EF553B",
           "#00cc96",
           "#ab63fa",
           "#FFA15A",
           "#19d3f3",
           "#FF6692",
           "#B6E880",
           "#FF97FF",
           "#FECB52"
          ],
          "font": {
           "color": "#2a3f5f"
          },
          "geo": {
           "bgcolor": "white",
           "lakecolor": "white",
           "landcolor": "#E5ECF6",
           "showlakes": true,
           "showland": true,
           "subunitcolor": "white"
          },
          "hoverlabel": {
           "align": "left"
          },
          "hovermode": "closest",
          "mapbox": {
           "style": "light"
          },
          "paper_bgcolor": "white",
          "plot_bgcolor": "#E5ECF6",
          "polar": {
           "angularaxis": {
            "gridcolor": "white",
            "linecolor": "white",
            "ticks": ""
           },
           "bgcolor": "#E5ECF6",
           "radialaxis": {
            "gridcolor": "white",
            "linecolor": "white",
            "ticks": ""
           }
          },
          "scene": {
           "xaxis": {
            "backgroundcolor": "#E5ECF6",
            "gridcolor": "white",
            "gridwidth": 2,
            "linecolor": "white",
            "showbackground": true,
            "ticks": "",
            "zerolinecolor": "white"
           },
           "yaxis": {
            "backgroundcolor": "#E5ECF6",
            "gridcolor": "white",
            "gridwidth": 2,
            "linecolor": "white",
            "showbackground": true,
            "ticks": "",
            "zerolinecolor": "white"
           },
           "zaxis": {
            "backgroundcolor": "#E5ECF6",
            "gridcolor": "white",
            "gridwidth": 2,
            "linecolor": "white",
            "showbackground": true,
            "ticks": "",
            "zerolinecolor": "white"
           }
          },
          "shapedefaults": {
           "line": {
            "color": "#2a3f5f"
           }
          },
          "ternary": {
           "aaxis": {
            "gridcolor": "white",
            "linecolor": "white",
            "ticks": ""
           },
           "baxis": {
            "gridcolor": "white",
            "linecolor": "white",
            "ticks": ""
           },
           "bgcolor": "#E5ECF6",
           "caxis": {
            "gridcolor": "white",
            "linecolor": "white",
            "ticks": ""
           }
          },
          "title": {
           "x": 0.05
          },
          "xaxis": {
           "automargin": true,
           "gridcolor": "white",
           "linecolor": "white",
           "ticks": "",
           "title": {
            "standoff": 15
           },
           "zerolinecolor": "white",
           "zerolinewidth": 2
          },
          "yaxis": {
           "automargin": true,
           "gridcolor": "white",
           "linecolor": "white",
           "ticks": "",
           "title": {
            "standoff": 15
           },
           "zerolinecolor": "white",
           "zerolinewidth": 2
          }
         }
        },
        "title": {
         "font": {
          "size": 24
         },
         "text": "✈️ Cancelled vs Delayed Flights Trend Over Past 9 Days"
        },
        "xaxis": {
         "anchor": "y",
         "domain": [
          0.0,
          1.0
         ],
         "gridcolor": "lightgrey",
         "showgrid": true,
         "tickangle": 0,
         "tickformat": "%b %d",
         "title": {
          "text": "Flight Date"
         }
        },
        "yaxis": {
         "anchor": "x",
         "domain": [
          0.0,
          1.0
         ],
         "gridcolor": "lightgrey",
         "showgrid": true,
         "title": {
          "text": "Number of Flights"
         }
        }
       }
      }
     },
     "metadata": {},
     "output_type": "display_data"
    }
   ],
   "source": [
    "# Convert to pandas\n",
    "status_trend_pd = status_trend.toPandas()\n",
    "\n",
    "# Create line chart with color by flight_status\n",
    "fig = px.line(\n",
    "    status_trend_pd,\n",
    "    x=\"flight_date\",\n",
    "    y=\"count\",\n",
    "    color=\"flight_status\",\n",
    "    title=\"✈️ Cancelled vs Delayed Flights Trend Over Past 9 Days\",\n",
    "    markers=True,\n",
    "    color_discrete_map={\n",
    "        \"cancelled\": \"#c1100d\",  # blue (like your cancelled formatting)\n",
    "        \"delayed\": \"#b6d627\"     # red for delayed\n",
    "    }\n",
    ")\n",
    "\n",
    "# Style traces\n",
    "fig.update_traces(\n",
    "    line=dict(width=4),\n",
    "    marker=dict(size=10, symbol=\"circle\"),\n",
    "    hovertemplate=\"Date: %{x}<br>%{legendgroup} Flights: %{y}\"\n",
    ")\n",
    "\n",
    "# Layout improvements\n",
    "fig.update_layout(\n",
    "    title_font_size=24,\n",
    "    xaxis_title=\"Flight Date\",\n",
    "    yaxis_title=\"Number of Flights\",\n",
    "    xaxis=dict(\n",
    "        showgrid=True,\n",
    "        gridcolor='lightgrey',\n",
    "        tickangle=0,\n",
    "        tickformat=\"%b %d\"   # e.g., \"Aug 01\"\n",
    "    ),\n",
    "    yaxis=dict(\n",
    "        showgrid=True,\n",
    "        gridcolor='lightgrey'\n",
    "    ),\n",
    "    plot_bgcolor='white',\n",
    "    hovermode='x unified',\n",
    "    margin=dict(t=50, b=50, l=80, r=150),  # extra right margin for legend\n",
    "    legend=dict(\n",
    "        title=\"Flight Status\",\n",
    "        orientation=\"v\",    # vertical stack\n",
    "        yanchor=\"top\", y=1,\n",
    "        xanchor=\"left\", x=1.05  # push legend outside right side\n",
    "    )\n",
    ")\n",
    "\n",
    "# Highlight peaks for each status\n",
    "for status, marker_symbol in [(\"cancelled\", \"diamond\"), (\"delayed\", \"star\")]:\n",
    "    df_status = status_trend_pd[status_trend_pd[\"flight_status\"] == status]\n",
    "    max_idx = df_status[\"count\"].idxmax()\n",
    "    fig.add_scatter(\n",
    "        x=[df_status.loc[max_idx, \"flight_date\"]],\n",
    "        y=[df_status.loc[max_idx, \"count\"]],\n",
    "        mode=\"markers+text\",\n",
    "        marker=dict(\n",
    "            size=14,\n",
    "            symbol=marker_symbol,\n",
    "            color=\"grey\"\n",
    "        ),\n",
    "        text=[f\"<b>Peak {status.capitalize()}: {df_status.loc[max_idx, 'count']}</b>\"],\n",
    "        textposition=\"top center\",\n",
    "        textfont=dict(size=11, color=\"black\"),\n",
    "        showlegend=False\n",
    "    )\n",
    "\n",
    "fig.show()"
   ]
  },
  {
   "cell_type": "code",
   "execution_count": 6,
   "id": "b973db5c",
   "metadata": {
    "execution": {
     "iopub.execute_input": "2025-09-03T09:52:59.293990Z",
     "iopub.status.busy": "2025-09-03T09:52:59.293886Z",
     "iopub.status.idle": "2025-09-03T09:52:59.749697Z",
     "shell.execute_reply": "2025-09-03T09:52:59.749442Z"
    },
    "jupyter": {
     "source_hidden": true
    },
    "papermill": {
     "duration": 0.459842,
     "end_time": "2025-09-03T09:52:59.750508",
     "exception": false,
     "start_time": "2025-09-03T09:52:59.290666",
     "status": "completed"
    },
    "tags": []
   },
   "outputs": [
    {
     "name": "stdout",
     "output_type": "stream",
     "text": [
      "✅ Data written to MySQL (localhost:3306/flight_db) → Table: flight_status_counts\n",
      "✅ Data written to MySQL (localhost:3306/flight_db) → Table: flight_status_trend\n"
     ]
    }
   ],
   "source": [
    "#saving the dataframes to mysql database after transformations\n",
    "write_to_mysql(flight_status_counts, \"flight_status_counts\", mode=\"overwrite\")\n",
    "write_to_mysql(status_trend, \"flight_status_trend\", mode=\"overwrite\")"
   ]
  }
 ],
 "metadata": {
  "kernelspec": {
   "display_name": "flight-env",
   "language": "python",
   "name": "python3"
  },
  "language_info": {
   "codemirror_mode": {
    "name": "ipython",
    "version": 3
   },
   "file_extension": ".py",
   "mimetype": "text/x-python",
   "name": "python",
   "nbconvert_exporter": "python",
   "pygments_lexer": "ipython3",
   "version": "3.12.6"
  },
  "papermill": {
   "default_parameters": {},
   "duration": 7.45052,
   "end_time": "2025-09-03T09:53:01.485434",
   "environment_variables": {},
   "exception": null,
   "input_path": "/Users/parthmac/Desktop/Projects/Flight Data Engineering/transformation for use cases/Flight_status_analysis.ipynb",
   "output_path": "/Users/parthmac/Desktop/Projects/Flight Data Engineering/transformation for use cases/Flight_status_analysis.ipynb",
   "parameters": {},
   "start_time": "2025-09-03T09:52:54.034914",
   "version": "2.6.0"
  }
 },
 "nbformat": 4,
 "nbformat_minor": 5
}